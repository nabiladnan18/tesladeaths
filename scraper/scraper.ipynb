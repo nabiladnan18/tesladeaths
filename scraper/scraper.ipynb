{
 "cells": [
  {
   "cell_type": "code",
   "execution_count": 2,
   "metadata": {},
   "outputs": [],
   "source": [
    "# SOURCE\n",
    "SOURCE = \"https://www.tesladeaths.com\"\n"
   ]
  },
  {
   "cell_type": "code",
   "execution_count": 3,
   "metadata": {},
   "outputs": [],
   "source": [
    "from requests_html import HTMLSession, Element\n",
    "\n",
    "session = HTMLSession()\n",
    "r: session = session.get(SOURCE)\n"
   ]
  },
  {
   "cell_type": "markdown",
   "metadata": {},
   "source": [
    "Getting the `table` element that houses the data.\n",
    "\n"
   ]
  },
  {
   "cell_type": "code",
   "execution_count": 4,
   "metadata": {},
   "outputs": [
    {
     "data": {
      "text/plain": [
       "<Element 'table' class=('waffle',) cellspacing='0' cellpadding='0' aria-describedby='tblDesc' id='dttable' summary='Crashes involving Tesla deaths, from 2013 to 2023'>"
      ]
     },
     "execution_count": 4,
     "metadata": {},
     "output_type": "execute_result"
    }
   ],
   "source": [
    "table: Element = r.html.find(\"#dttable\", first=True)\n",
    "table\n"
   ]
  },
  {
   "cell_type": "markdown",
   "metadata": {},
   "source": [
    "Finding all row headers using `th` tag.\n",
    "\n"
   ]
  },
  {
   "cell_type": "code",
   "execution_count": 5,
   "metadata": {},
   "outputs": [
    {
     "data": {
      "text/plain": [
       "['Case #',\n",
       " 'Year',\n",
       " 'Date',\n",
       " 'Country',\n",
       " 'State',\n",
       " 'Description',\n",
       " 'Deaths',\n",
       " 'Tesla driver',\n",
       " 'Tesla occupant',\n",
       " 'Other vehicle',\n",
       " 'Cyclists/ Peds',\n",
       " 'TSLA+cycl / peds',\n",
       " 'Model',\n",
       " 'AutoPilot claimed',\n",
       " 'Reported in NHTSA SGO',\n",
       " 'Verified Tesla Autopilot Death',\n",
       " 'Excerpt Verifying Tesla Autopilot Deaths',\n",
       " 'Source',\n",
       " 'Note',\n",
       " 'Deceased 1',\n",
       " 'Deceased 2',\n",
       " 'Deceased 3',\n",
       " 'Deceased 4']"
      ]
     },
     "execution_count": 5,
     "metadata": {},
     "output_type": "execute_result"
    }
   ],
   "source": [
    "table_headers = table.find(\"th\")\n",
    "table_headers = [row.text for row in table_headers]\n",
    "table_headers\n"
   ]
  },
  {
   "cell_type": "markdown",
   "metadata": {},
   "source": [
    "Collecting all data rows and excluding the last 350 since there is no usable data in there.\n",
    "\n"
   ]
  },
  {
   "cell_type": "code",
   "execution_count": 6,
   "metadata": {},
   "outputs": [],
   "source": [
    "table_data = table.find(\"td\")[:-350]\n",
    "# * The last 350 td\"s do not have useful data\n"
   ]
  },
  {
   "cell_type": "markdown",
   "metadata": {},
   "source": [
    "There were some challenges arranging the data in the right way.\n",
    "\n",
    "-   The urls in the table are truncated, which means simply finding the text would not suffice.\n",
    "\n",
    "-   There are more than **one** URL per row. There are numbers in the table are _hyperlinked_ which means there are more URLs than are rows, which makes it difficult to simply find all the `a` tags and plug them into the table at the right index while looping through all the elements in `table_data`. Speaking of which...\n",
    "\n",
    "-   The collection of elements in `table_data` is simply a dump of the table; not by row. There are 23 columns in the table therefore, for each 23 elements found from the beginning is one row.\n",
    "\n"
   ]
  },
  {
   "cell_type": "code",
   "execution_count": 7,
   "metadata": {},
   "outputs": [],
   "source": [
    "rows = []\n",
    "for i in list(range(0, len(table_data), 23)):\n",
    "    build_row = []\n",
    "    for index, data in enumerate(table_data[0 + i : 23 + i]):\n",
    "        if data.text.startswith(\"http\"):\n",
    "            build_row.append(*data.links)\n",
    "        else:\n",
    "            build_row.append(data.text)\n",
    "    rows.append(build_row)\n"
   ]
  },
  {
   "cell_type": "markdown",
   "metadata": {},
   "source": [
    "Confirming that I got the URLs right.\n",
    "\n"
   ]
  },
  {
   "cell_type": "code",
   "execution_count": 8,
   "metadata": {},
   "outputs": [
    {
     "name": "stdout",
     "output_type": "stream",
     "text": [
      "['349', '2023', '7/21/2023', 'USA', 'VA', 'Tesla crashes into side of truck', '1', '1', '-', '-', '-', '1', 'Y', '1', '13781-5996', '1', '-', 'https://web.archive.org/web/20230723185542/https://www.fauquier.com/news/article_0383d91a-2732-11ee-842d-739e7da7cbcf.html', '', 'Pablo Teodoro III', '', '', '']\n"
     ]
    }
   ],
   "source": [
    "for row in rows:\n",
    "    if row[0] == \"349\":\n",
    "        print(row)\n"
   ]
  },
  {
   "cell_type": "markdown",
   "metadata": {},
   "source": [
    "Mandatory conversion to DataFrame 😅\n",
    "\n"
   ]
  },
  {
   "cell_type": "code",
   "execution_count": 9,
   "metadata": {},
   "outputs": [
    {
     "data": {
      "text/plain": [
       "Case #                                      object\n",
       "Year                                        object\n",
       "Date                                        object\n",
       "Country                                     object\n",
       "State                                       object\n",
       "Description                                 object\n",
       "Deaths                                       int64\n",
       "Tesla driver                                 int64\n",
       "Tesla occupant                               int64\n",
       "Other vehicle                                int64\n",
       "Cyclists/ Peds                               int64\n",
       "TSLA+cycl / peds                             int64\n",
       "Model                                       object\n",
       "AutoPilot claimed                           object\n",
       "Reported in NHTSA SGO                       object\n",
       "Verified Tesla Autopilot Death              object\n",
       "Excerpt Verifying Tesla Autopilot Deaths    object\n",
       "Source                                      object\n",
       "Note                                        object\n",
       "Deceased 1                                  object\n",
       "Deceased 2                                  object\n",
       "Deceased 3                                  object\n",
       "Deceased 4                                  object\n",
       "dtype: object"
      ]
     },
     "execution_count": 9,
     "metadata": {},
     "output_type": "execute_result"
    }
   ],
   "source": [
    "import pandas as pd\n",
    "\n",
    "df = pd.DataFrame(rows, columns=table_headers)\n",
    "# Converting necessary columns from str to int values\n",
    "int_value_columns = df.columns[6:12]\n",
    "df[int_value_columns] = (\n",
    "    df[int_value_columns].apply(pd.to_numeric, errors=\"coerce\").fillna(0).astype(\"int\")\n",
    ")\n",
    "\n",
    "df.dtypes\n"
   ]
  },
  {
   "cell_type": "code",
   "execution_count": 10,
   "metadata": {},
   "outputs": [
    {
     "data": {
      "text/html": [
       "<div>\n",
       "<style scoped>\n",
       "    .dataframe tbody tr th:only-of-type {\n",
       "        vertical-align: middle;\n",
       "    }\n",
       "\n",
       "    .dataframe tbody tr th {\n",
       "        vertical-align: top;\n",
       "    }\n",
       "\n",
       "    .dataframe thead th {\n",
       "        text-align: right;\n",
       "    }\n",
       "</style>\n",
       "<table border=\"1\" class=\"dataframe\">\n",
       "  <thead>\n",
       "    <tr style=\"text-align: right;\">\n",
       "      <th></th>\n",
       "      <th>Case #</th>\n",
       "      <th>Year</th>\n",
       "      <th>Date</th>\n",
       "      <th>Country</th>\n",
       "      <th>State</th>\n",
       "      <th>Description</th>\n",
       "      <th>Deaths</th>\n",
       "      <th>Tesla driver</th>\n",
       "      <th>Tesla occupant</th>\n",
       "      <th>Other vehicle</th>\n",
       "      <th>...</th>\n",
       "      <th>AutoPilot claimed</th>\n",
       "      <th>Reported in NHTSA SGO</th>\n",
       "      <th>Verified Tesla Autopilot Death</th>\n",
       "      <th>Excerpt Verifying Tesla Autopilot Deaths</th>\n",
       "      <th>Source</th>\n",
       "      <th>Note</th>\n",
       "      <th>Deceased 1</th>\n",
       "      <th>Deceased 2</th>\n",
       "      <th>Deceased 3</th>\n",
       "      <th>Deceased 4</th>\n",
       "    </tr>\n",
       "  </thead>\n",
       "  <tbody>\n",
       "    <tr>\n",
       "      <th>0</th>\n",
       "      <td>377</td>\n",
       "      <td>2023</td>\n",
       "      <td>11/15/2023</td>\n",
       "      <td>USA</td>\n",
       "      <td>NC</td>\n",
       "      <td>Moped runs into Tesla</td>\n",
       "      <td>1</td>\n",
       "      <td>0</td>\n",
       "      <td>0</td>\n",
       "      <td>1</td>\n",
       "      <td>...</td>\n",
       "      <td>-</td>\n",
       "      <td>-</td>\n",
       "      <td>-</td>\n",
       "      <td>-</td>\n",
       "      <td>https://web.archive.org/web/20231117073442/htt...</td>\n",
       "      <td></td>\n",
       "      <td></td>\n",
       "      <td></td>\n",
       "      <td></td>\n",
       "      <td></td>\n",
       "    </tr>\n",
       "    <tr>\n",
       "      <th>1</th>\n",
       "      <td>376</td>\n",
       "      <td>2023</td>\n",
       "      <td>11/4/2023</td>\n",
       "      <td>USA</td>\n",
       "      <td>WA</td>\n",
       "      <td>Tesla rolls over and hits enbankment</td>\n",
       "      <td>1</td>\n",
       "      <td>1</td>\n",
       "      <td>0</td>\n",
       "      <td>0</td>\n",
       "      <td>...</td>\n",
       "      <td>-</td>\n",
       "      <td>-</td>\n",
       "      <td>-</td>\n",
       "      <td>-</td>\n",
       "      <td>https://web.archive.org/web/20231106013012/htt...</td>\n",
       "      <td></td>\n",
       "      <td></td>\n",
       "      <td></td>\n",
       "      <td></td>\n",
       "      <td></td>\n",
       "    </tr>\n",
       "    <tr>\n",
       "      <th>2</th>\n",
       "      <td>375</td>\n",
       "      <td>2023</td>\n",
       "      <td>11/3/2023</td>\n",
       "      <td>USA</td>\n",
       "      <td>FL</td>\n",
       "      <td>Tesla hits a dislodged motorcyclist</td>\n",
       "      <td>1</td>\n",
       "      <td>0</td>\n",
       "      <td>0</td>\n",
       "      <td>0</td>\n",
       "      <td>...</td>\n",
       "      <td>-</td>\n",
       "      <td>-</td>\n",
       "      <td>-</td>\n",
       "      <td>-</td>\n",
       "      <td>https://web.archive.org/web/20231106001806/htt...</td>\n",
       "      <td></td>\n",
       "      <td></td>\n",
       "      <td></td>\n",
       "      <td></td>\n",
       "      <td></td>\n",
       "    </tr>\n",
       "    <tr>\n",
       "      <th>3</th>\n",
       "      <td>374</td>\n",
       "      <td>2023</td>\n",
       "      <td>10/30/2023</td>\n",
       "      <td>USA</td>\n",
       "      <td>NY</td>\n",
       "      <td>Tesla hits multiple cars</td>\n",
       "      <td>1</td>\n",
       "      <td>0</td>\n",
       "      <td>1</td>\n",
       "      <td>0</td>\n",
       "      <td>...</td>\n",
       "      <td>-</td>\n",
       "      <td>-</td>\n",
       "      <td>-</td>\n",
       "      <td>-</td>\n",
       "      <td>https://web.archive.org/web/20231031221805/htt...</td>\n",
       "      <td></td>\n",
       "      <td></td>\n",
       "      <td></td>\n",
       "      <td></td>\n",
       "      <td></td>\n",
       "    </tr>\n",
       "    <tr>\n",
       "      <th>4</th>\n",
       "      <td>373</td>\n",
       "      <td>2023</td>\n",
       "      <td>10/30/2023</td>\n",
       "      <td>USA</td>\n",
       "      <td>NY</td>\n",
       "      <td>DUI</td>\n",
       "      <td>1</td>\n",
       "      <td>0</td>\n",
       "      <td>0</td>\n",
       "      <td>1</td>\n",
       "      <td>...</td>\n",
       "      <td>-</td>\n",
       "      <td>-</td>\n",
       "      <td>-</td>\n",
       "      <td>-</td>\n",
       "      <td>https://web.archive.org/web/20231031221230/htt...</td>\n",
       "      <td></td>\n",
       "      <td></td>\n",
       "      <td></td>\n",
       "      <td></td>\n",
       "      <td></td>\n",
       "    </tr>\n",
       "  </tbody>\n",
       "</table>\n",
       "<p>5 rows × 23 columns</p>\n",
       "</div>"
      ],
      "text/plain": [
       "  Case #  Year        Date Country State  \\\n",
       "0    377  2023  11/15/2023     USA    NC   \n",
       "1    376  2023   11/4/2023     USA    WA   \n",
       "2    375  2023   11/3/2023     USA    FL   \n",
       "3    374  2023  10/30/2023     USA    NY   \n",
       "4    373  2023  10/30/2023     USA    NY   \n",
       "\n",
       "                            Description  Deaths  Tesla driver  Tesla occupant  \\\n",
       "0                 Moped runs into Tesla       1             0               0   \n",
       "1  Tesla rolls over and hits enbankment       1             1               0   \n",
       "2   Tesla hits a dislodged motorcyclist       1             0               0   \n",
       "3              Tesla hits multiple cars       1             0               1   \n",
       "4                                   DUI       1             0               0   \n",
       "\n",
       "   Other vehicle  ...  AutoPilot claimed  Reported in NHTSA SGO  \\\n",
       "0              1  ...                  -                      -   \n",
       "1              0  ...                  -                      -   \n",
       "2              0  ...                  -                      -   \n",
       "3              0  ...                  -                      -   \n",
       "4              1  ...                  -                      -   \n",
       "\n",
       "  Verified Tesla Autopilot Death Excerpt Verifying Tesla Autopilot Deaths  \\\n",
       "0                              -                                        -   \n",
       "1                              -                                        -   \n",
       "2                              -                                        -   \n",
       "3                              -                                        -   \n",
       "4                              -                                        -   \n",
       "\n",
       "                                              Source Note Deceased 1  \\\n",
       "0  https://web.archive.org/web/20231117073442/htt...                   \n",
       "1  https://web.archive.org/web/20231106013012/htt...                   \n",
       "2  https://web.archive.org/web/20231106001806/htt...                   \n",
       "3  https://web.archive.org/web/20231031221805/htt...                   \n",
       "4  https://web.archive.org/web/20231031221230/htt...                   \n",
       "\n",
       "  Deceased 2 Deceased 3 Deceased 4  \n",
       "0                                   \n",
       "1                                   \n",
       "2                                   \n",
       "3                                   \n",
       "4                                   \n",
       "\n",
       "[5 rows x 23 columns]"
      ]
     },
     "execution_count": 10,
     "metadata": {},
     "output_type": "execute_result"
    }
   ],
   "source": [
    "df.head()\n"
   ]
  },
  {
   "cell_type": "markdown",
   "metadata": {},
   "source": [
    "Played around with the new library `Polars` 🐻‍❄️ which is supposed to be [`fast as fuck boiiiii`](https://www.youtube.com/shorts/6E7ZGCfruaw). It is indeed, or should be in theory. `Polars` store data in DataFrames in _columnar_ format as opposed to the classical row format _Pandas_ 🐼 uses.\n",
    "\n"
   ]
  },
  {
   "cell_type": "code",
   "execution_count": 11,
   "metadata": {},
   "outputs": [
    {
     "data": {
      "text/html": [
       "<div><style>\n",
       ".dataframe > thead > tr,\n",
       ".dataframe > tbody > tr {\n",
       "  text-align: right;\n",
       "  white-space: pre-wrap;\n",
       "}\n",
       "</style>\n",
       "<small>shape: (23, 387)</small><table border=\"1\" class=\"dataframe\"><thead><tr><th>column_0</th><th>column_1</th><th>column_2</th><th>column_3</th><th>column_4</th><th>column_5</th><th>column_6</th><th>column_7</th><th>column_8</th><th>column_9</th><th>column_10</th><th>column_11</th><th>column_12</th><th>column_13</th><th>column_14</th><th>column_15</th><th>column_16</th><th>column_17</th><th>column_18</th><th>column_19</th><th>column_20</th><th>column_21</th><th>column_22</th><th>column_23</th><th>column_24</th><th>column_25</th><th>column_26</th><th>column_27</th><th>column_28</th><th>column_29</th><th>column_30</th><th>column_31</th><th>column_32</th><th>column_33</th><th>column_34</th><th>column_35</th><th>column_36</th><th>&hellip;</th><th>column_350</th><th>column_351</th><th>column_352</th><th>column_353</th><th>column_354</th><th>column_355</th><th>column_356</th><th>column_357</th><th>column_358</th><th>column_359</th><th>column_360</th><th>column_361</th><th>column_362</th><th>column_363</th><th>column_364</th><th>column_365</th><th>column_366</th><th>column_367</th><th>column_368</th><th>column_369</th><th>column_370</th><th>column_371</th><th>column_372</th><th>column_373</th><th>column_374</th><th>column_375</th><th>column_376</th><th>column_377</th><th>column_378</th><th>column_379</th><th>column_380</th><th>column_381</th><th>column_382</th><th>column_383</th><th>column_384</th><th>column_385</th><th>column_386</th></tr><tr><td>str</td><td>str</td><td>str</td><td>str</td><td>str</td><td>str</td><td>str</td><td>str</td><td>str</td><td>str</td><td>str</td><td>str</td><td>str</td><td>str</td><td>str</td><td>str</td><td>str</td><td>str</td><td>str</td><td>str</td><td>str</td><td>str</td><td>str</td><td>str</td><td>str</td><td>str</td><td>str</td><td>str</td><td>str</td><td>str</td><td>str</td><td>str</td><td>str</td><td>str</td><td>str</td><td>str</td><td>str</td><td>&hellip;</td><td>str</td><td>str</td><td>str</td><td>str</td><td>str</td><td>str</td><td>str</td><td>str</td><td>str</td><td>str</td><td>str</td><td>str</td><td>str</td><td>str</td><td>str</td><td>str</td><td>str</td><td>str</td><td>str</td><td>str</td><td>str</td><td>str</td><td>str</td><td>str</td><td>str</td><td>str</td><td>str</td><td>str</td><td>str</td><td>str</td><td>str</td><td>str</td><td>str</td><td>str</td><td>str</td><td>str</td><td>str</td></tr></thead><tbody><tr><td>&quot;377&quot;</td><td>&quot;376&quot;</td><td>&quot;375&quot;</td><td>&quot;374&quot;</td><td>&quot;373&quot;</td><td>&quot;372&quot;</td><td>&quot;371&quot;</td><td>&quot;370&quot;</td><td>&quot;369&quot;</td><td>&quot;368&quot;</td><td>&quot;367.1&quot;</td><td>&quot;367&quot;</td><td>&quot;366&quot;</td><td>&quot;365&quot;</td><td>&quot;364&quot;</td><td>&quot;363&quot;</td><td>&quot;361&quot;</td><td>&quot;360&quot;</td><td>&quot;359&quot;</td><td>&quot;358&quot;</td><td>&quot;357.1&quot;</td><td>&quot;357&quot;</td><td>&quot;356&quot;</td><td>&quot;355&quot;</td><td>&quot;354&quot;</td><td>&quot;353&quot;</td><td>&quot;352&quot;</td><td>&quot;351&quot;</td><td>&quot;350&quot;</td><td>&quot;349&quot;</td><td>&quot;348&quot;</td><td>&quot;346&quot;</td><td>&quot;345&quot;</td><td>&quot;344&quot;</td><td>&quot;343&quot;</td><td>&quot;342.2&quot;</td><td>&quot;342.1&quot;</td><td>&hellip;</td><td>&quot;37&quot;</td><td>&quot;36&quot;</td><td>&quot;35&quot;</td><td>&quot;34&quot;</td><td>&quot;33&quot;</td><td>&quot;32&quot;</td><td>&quot;31&quot;</td><td>&quot;30&quot;</td><td>&quot;29&quot;</td><td>&quot;28&quot;</td><td>&quot;27&quot;</td><td>&quot;26&quot;</td><td>&quot;25&quot;</td><td>&quot;24&quot;</td><td>&quot;23&quot;</td><td>&quot;22&quot;</td><td>&quot;21&quot;</td><td>&quot;20&quot;</td><td>&quot;19&quot;</td><td>&quot;18&quot;</td><td>&quot;17&quot;</td><td>&quot;16&quot;</td><td>&quot;15&quot;</td><td>&quot;14&quot;</td><td>&quot;13&quot;</td><td>&quot;12&quot;</td><td>&quot;11&quot;</td><td>&quot;10&quot;</td><td>&quot;9&quot;</td><td>&quot;8&quot;</td><td>&quot;7&quot;</td><td>&quot;6&quot;</td><td>&quot;5&quot;</td><td>&quot;4&quot;</td><td>&quot;3&quot;</td><td>&quot;2&quot;</td><td>&quot;1&quot;</td></tr><tr><td>&quot;2023&quot;</td><td>&quot;2023&quot;</td><td>&quot;2023&quot;</td><td>&quot;2023&quot;</td><td>&quot;2023&quot;</td><td>&quot;2023&quot;</td><td>&quot;2023&quot;</td><td>&quot;2023&quot;</td><td>&quot;2023&quot;</td><td>&quot;2023&quot;</td><td>&quot;2023&quot;</td><td>&quot;2023&quot;</td><td>&quot;2023&quot;</td><td>&quot;2023&quot;</td><td>&quot;2023&quot;</td><td>&quot;2023&quot;</td><td>&quot;2023&quot;</td><td>&quot;2023&quot;</td><td>&quot;2023&quot;</td><td>&quot;2023&quot;</td><td>&quot;2023&quot;</td><td>&quot;2023&quot;</td><td>&quot;2023&quot;</td><td>&quot;2023&quot;</td><td>&quot;2023&quot;</td><td>&quot;2023&quot;</td><td>&quot;2023&quot;</td><td>&quot;2023&quot;</td><td>&quot;2023&quot;</td><td>&quot;2023&quot;</td><td>&quot;2023&quot;</td><td>&quot;2023&quot;</td><td>&quot;2023&quot;</td><td>&quot;2023&quot;</td><td>&quot;2023&quot;</td><td>&quot;2023&quot;</td><td>&quot;2023&quot;</td><td>&hellip;</td><td>&quot;2017&quot;</td><td>&quot;2017&quot;</td><td>&quot;2017&quot;</td><td>&quot;2017&quot;</td><td>&quot;2017&quot;</td><td>&quot;2017&quot;</td><td>&quot;2017&quot;</td><td>&quot;2017&quot;</td><td>&quot;2017&quot;</td><td>&quot;2017&quot;</td><td>&quot;2017&quot;</td><td>&quot;2016&quot;</td><td>&quot;2016&quot;</td><td>&quot;2016&quot;</td><td>&quot;2016&quot;</td><td>&quot;2016&quot;</td><td>&quot;2016&quot;</td><td>&quot;2016&quot;</td><td>&quot;2016&quot;</td><td>&quot;2016&quot;</td><td>&quot;2016&quot;</td><td>&quot;2016&quot;</td><td>&quot;2016&quot;</td><td>&quot;2016&quot;</td><td>&quot;2016&quot;</td><td>&quot;2016&quot;</td><td>&quot;2015&quot;</td><td>&quot;2015&quot;</td><td>&quot;2015&quot;</td><td>&quot;2015&quot;</td><td>&quot;2015&quot;</td><td>&quot;2014&quot;</td><td>&quot;2014&quot;</td><td>&quot;2014&quot;</td><td>&quot;2014&quot;</td><td>&quot;2013&quot;</td><td>&quot;2013&quot;</td></tr><tr><td>&quot;11/15/2023&quot;</td><td>&quot;11/4/2023&quot;</td><td>&quot;11/3/2023&quot;</td><td>&quot;10/30/2023&quot;</td><td>&quot;10/30/2023&quot;</td><td>&quot;10/26/2023&quot;</td><td>&quot;10/14/2023&quot;</td><td>&quot;10/14/2023&quot;</td><td>&quot;10/14/2023&quot;</td><td>&quot;10/13/2023&quot;</td><td>&quot;10/12/2023&quot;</td><td>&quot;10/10/2023&quot;</td><td>&quot;10/4/2023&quot;</td><td>&quot;10/2/2023&quot;</td><td>&quot;9/30/2023&quot;</td><td>&quot;9/25/2023&quot;</td><td>&quot;9/24/2023&quot;</td><td>&quot;9/4/2023&quot;</td><td>&quot;9/1/2023&quot;</td><td>&quot;8/29/2023&quot;</td><td>&quot;8/14/2023&quot;</td><td>&quot;8/13/2023&quot;</td><td>&quot;8/12/2023&quot;</td><td>&quot;8/12/2023&quot;</td><td>&quot;8/1/2023&quot;</td><td>&quot;7/31/2023&quot;</td><td>&quot;7/29/2023&quot;</td><td>&quot;7/29/2023&quot;</td><td>&quot;7/22/2023&quot;</td><td>&quot;7/21/2023&quot;</td><td>&quot;7/20/2023&quot;</td><td>&quot;7/16/2023&quot;</td><td>&quot;7/8/2023&quot;</td><td>&quot;7/8/2023&quot;</td><td>&quot;7/8/2023&quot;</td><td>&quot;7/7/2023&quot;</td><td>&quot;7/7/2023&quot;</td><td>&hellip;</td><td>&quot;11/22/2017&quot;</td><td>&quot;11/14/2017&quot;</td><td>&quot;9/24/2017&quot;</td><td>&quot;8/13/2017&quot;</td><td>&quot;7/21/2017&quot;</td><td>&quot;6/25/2017&quot;</td><td>&quot;6/10/2017&quot;</td><td>&quot;5/11/2017&quot;</td><td>&quot;4/26/2017&quot;</td><td>&quot;3/13/2017&quot;</td><td>&quot;1/17/2017&quot;</td><td>&quot;12/20/2016&quot;</td><td>&quot;11/23/2016&quot;</td><td>&quot;11/3/2016&quot;</td><td>&quot;10/10/2016&quot;</td><td>&quot;10/7/2016&quot;</td><td>&quot;9/7/2016&quot;</td><td>&quot;9/1/2016&quot;</td><td>&quot;8/15/2016&quot;</td><td>&quot;7/29/2016&quot;</td><td>&quot;7/22/2016&quot;</td><td>&quot;6/8/2016&quot;</td><td>&quot;5/7/2016&quot;</td><td>&quot;4/22/2016&quot;</td><td>&quot;4/8/2016&quot;</td><td>&quot;1/20/2016&quot;</td><td>&quot;12/28/2015&quot;</td><td>&quot;12/22/2015&quot;</td><td>&quot;11/18/2015&quot;</td><td>&quot;6/22/2015&quot;</td><td>&quot;1/22/2015&quot;</td><td>&quot;12/30/2014&quot;</td><td>&quot;7/14/2014&quot;</td><td>&quot;7/4/2014&quot;</td><td>&quot;7/4/2014&quot;</td><td>&quot;11/2/2013&quot;</td><td>&quot;4/2/2013&quot;</td></tr><tr><td>&quot;USA&quot;</td><td>&quot;USA&quot;</td><td>&quot;USA&quot;</td><td>&quot;USA&quot;</td><td>&quot;USA&quot;</td><td>&quot;USA&quot;</td><td>&quot;UK&quot;</td><td>&quot;USA&quot;</td><td>&quot;USA&quot;</td><td>&quot;USA&quot;</td><td>&quot;USA&quot;</td><td>&quot;USA&quot;</td><td>&quot;USA&quot;</td><td>&quot;USA&quot;</td><td>&quot;USA&quot;</td><td>&quot;USA&quot;</td><td>&quot;USA&quot;</td><td>&quot;USA&quot;</td><td>&quot;USA&quot;</td><td>&quot;USA&quot;</td><td>&quot;UK&quot;</td><td>&quot;USA&quot;</td><td>&quot;Germany&quot;</td><td>&quot;USA&quot;</td><td>&quot;USA&quot;</td><td>&quot;USA&quot;</td><td>&quot;USA&quot;</td><td>&quot;USA&quot;</td><td>&quot;USA&quot;</td><td>&quot;USA&quot;</td><td>&quot;USA&quot;</td><td>&quot;USA&quot;</td><td>&quot;USA&quot;</td><td>&quot;USA&quot;</td><td>&quot;Germany&quot;</td><td>&quot;USA&quot;</td><td>&quot;USA&quot;</td><td>&hellip;</td><td>&quot;Switzerland&quot;</td><td>&quot;Australia&quot;</td><td>&quot;USA&quot;</td><td>&quot;USA&quot;</td><td>&quot;USA&quot;</td><td>&quot;USA&quot;</td><td>&quot;USA&quot;</td><td>&quot;USA&quot;</td><td>&quot;Norway&quot;</td><td>&quot;USA&quot;</td><td>&quot;Germany&quot;</td><td>&quot;USA&quot;</td><td>&quot;USA&quot;</td><td>&quot;USA&quot;</td><td>&quot;USA&quot;</td><td>&quot;USA&quot;</td><td>&quot;Holland&quot;</td><td>&quot;USA&quot;</td><td>&quot;USA&quot;</td><td>&quot;USA&quot;</td><td>&quot;USA&quot;</td><td>&quot;USA&quot;</td><td>&quot;USA&quot;</td><td>&quot;USA&quot;</td><td>&quot;USA&quot;</td><td>&quot;China&quot;</td><td>&quot;USA&quot;</td><td>&quot;Canada&quot;</td><td>&quot;USA&quot;</td><td>&quot;USA&quot;</td><td>&quot;USA&quot;</td><td>&quot;USA&quot;</td><td>&quot;USA&quot;</td><td>&quot;USA&quot;</td><td>&quot;USA&quot;</td><td>&quot;USA&quot;</td><td>&quot;USA&quot;</td></tr><tr><td>&quot;NC&quot;</td><td>&quot;WA&quot;</td><td>&quot;FL&quot;</td><td>&quot;NY&quot;</td><td>&quot;NY&quot;</td><td>&quot;CA&quot;</td><td>&quot;-&quot;</td><td>&quot;WA&quot;</td><td>&quot;CA&quot;</td><td>&quot;CA&quot;</td><td>&quot;SC&quot;</td><td>&quot;MA&quot;</td><td>&quot;CA&quot;</td><td>&quot;CA&quot;</td><td>&quot;CA&quot;</td><td>&quot;VA&quot;</td><td>&quot;PA&quot;</td><td>&quot;VA&quot;</td><td>&quot;ID&quot;</td><td>&quot;TX&quot;</td><td>&quot;-&quot;</td><td>&quot;NJ&quot;</td><td>&quot;-&quot;</td><td>&quot;CA&quot;</td><td>&quot;CA&quot;</td><td>&quot;TX&quot;</td><td>&quot;UT&quot;</td><td>&quot;TX&quot;</td><td>&quot;NC&quot;</td><td>&quot;VA&quot;</td><td>&quot;CA&quot;</td><td>&quot;FL&quot;</td><td>&quot;MN&quot;</td><td>&quot;CA&quot;</td><td>&quot;-&quot;</td><td>&quot;CA&quot;</td><td>&quot;CA&quot;</td><td>&hellip;</td><td>&quot;-&quot;</td><td>&quot;-&quot;</td><td>&quot;TN&quot;</td><td>&quot;AZ&quot;</td><td>&quot;AZ&quot;</td><td>&quot;CA&quot;</td><td>&quot;HI&quot;</td><td>&quot;FL&quot;</td><td>&quot;-&quot;</td><td>&quot;CA&quot;</td><td>&quot;-&quot;</td><td>&quot;CA&quot;</td><td>&quot;IL&quot;</td><td>&quot;IN&quot;</td><td>&quot;NH&quot;</td><td>&quot;CA&quot;</td><td>&quot;-&quot;</td><td>&quot;FL&quot;</td><td>&quot;CA&quot;</td><td>&quot;FL&quot;</td><td>&quot;CA&quot;</td><td>&quot;HI&quot;</td><td>&quot;FL&quot;</td><td>&quot;CA&quot;</td><td>&quot;OH&quot;</td><td>&quot;-&quot;</td><td>&quot;TX&quot;</td><td>&quot;-&quot;</td><td>&quot;CA&quot;</td><td>&quot;CA&quot;</td><td>&quot;CA&quot;</td><td>&quot;CA&quot;</td><td>&quot;CA&quot;</td><td>&quot;CA&quot;</td><td>&quot;CA&quot;</td><td>&quot;CA&quot;</td><td>&quot;CA&quot;</td></tr><tr><td>&quot;Moped runs int…</td><td>&quot;Tesla rolls ov…</td><td>&quot;Tesla hits a d…</td><td>&quot;Tesla hits mul…</td><td>&quot;DUI&quot;</td><td>&quot;Motorcycle cra…</td><td>&quot;Cyclist hit by…</td><td>&quot;Car hit by onc…</td><td>&quot;Stolen Tesla h…</td><td>&quot;Tesla hits div…</td><td>&quot;Tesla hits tre…</td><td>&quot;Tesla hits car…</td><td>&quot;Head-on collis…</td><td>&quot;Tesla heading …</td><td>&quot;Tesla hits pol…</td><td>&quot;Rear-end car c…</td><td>&quot;Collision&quot;</td><td>&quot;Motorcycle and…</td><td>&quot;Tesla crosses …</td><td>&quot;Tesla crashes …</td><td>&quot;Tesla hits bic…</td><td>&quot;Motorcycle hit…</td><td>&quot;Tesla hits gua…</td><td>&quot;Multi-car acci…</td><td>&quot;Motorcycle hit…</td><td>&quot;Hit and run&quot;</td><td>&quot;Tesla crashes …</td><td>&quot;Tesla crashes …</td><td>&quot;Tesla crashes …</td><td>&quot;Tesla crashes …</td><td>&quot;Multi-car acci…</td><td>&quot;Tesla runs off…</td><td>&quot;Speeding Tesla…</td><td>&quot;Tesla crashes …</td><td>&quot;Tesla crashes …</td><td>&quot;Tesla hits fir…</td><td>&quot;Multi Car acci…</td><td>&hellip;</td><td>&quot;Tesla rear end…</td><td>&quot;Tesla kills cy…</td><td>&quot;Tesla drives o…</td><td>&quot;Tesla kills mo…</td><td>&quot;Wrong way driv…</td><td>&quot;Tesla strikes …</td><td>&quot;Unclear; see n…</td><td>&quot;Tesla into onc…</td><td>&quot;Tesla into onc…</td><td>&quot;Tesla kills pe…</td><td>&quot;Driver died in…</td><td>&quot;Tesla kills pe…</td><td>&quot;Driver dead in…</td><td>&quot;Indianapolis f…</td><td>&quot;Pileup&quot;</td><td>&quot;Tesla kills mo…</td><td>&quot;Drove into woo…</td><td>&quot;Motorcyclist r…</td><td>&quot;Tesla rear end…</td><td>&quot;Tesla kills pe…</td><td>&quot;Passat strikes…</td><td>&quot;Nissan Altima …</td><td>&quot;Autopilot into…</td><td>&quot;Pedestrian kil…</td><td>&quot;Chevy Cobalt w…</td><td>&quot;Autopilot into…</td><td>&quot;Sudden uninten…</td><td>&quot;Struck by dump…</td><td>&quot;Tesla kills pe…</td><td>&quot;Tesla drives o…</td><td>&quot;Tesla drives o…</td><td>&quot;Tesla drives o…</td><td>&quot;Tesla kills mo…</td><td>&quot;Thief crashes …</td><td>&quot;Tesla rear end…</td><td>&quot;Tesla kills cy…</td><td>&quot;Tesla veers in…</td></tr><tr><td>&quot;1&quot;</td><td>&quot;1&quot;</td><td>&quot;1&quot;</td><td>&quot;1&quot;</td><td>&quot;1&quot;</td><td>&quot;1&quot;</td><td>&quot;1&quot;</td><td>&quot;1&quot;</td><td>&quot;2&quot;</td><td>&quot;2&quot;</td><td>&quot;1&quot;</td><td>&quot;1&quot;</td><td>&quot;1&quot;</td><td>&quot;2&quot;</td><td>&quot;1&quot;</td><td>&quot;1&quot;</td><td>&quot;3&quot;</td><td>&quot;1&quot;</td><td>&quot;4&quot;</td><td>&quot;2&quot;</td><td>&quot;1&quot;</td><td>&quot;1&quot;</td><td>&quot;1&quot;</td><td>&quot;1&quot;</td><td>&quot;1&quot;</td><td>&quot;1&quot;</td><td>&quot;3&quot;</td><td>&quot;1&quot;</td><td>&quot;1&quot;</td><td>&quot;1&quot;</td><td>&quot;1&quot;</td><td>&quot;1&quot;</td><td>&quot;1&quot;</td><td>&quot;3&quot;</td><td>&quot;1&quot;</td><td>&quot;2&quot;</td><td>&quot;1&quot;</td><td>&hellip;</td><td>&quot;1&quot;</td><td>&quot;1&quot;</td><td>&quot;1&quot;</td><td>&quot;1&quot;</td><td>&quot;1&quot;</td><td>&quot;1&quot;</td><td>&quot;1&quot;</td><td>&quot;1&quot;</td><td>&quot;1&quot;</td><td>&quot;1&quot;</td><td>&quot;1&quot;</td><td>&quot;1&quot;</td><td>&quot;1&quot;</td><td>&quot;2&quot;</td><td>&quot;1&quot;</td><td>&quot;1&quot;</td><td>&quot;1&quot;</td><td>&quot;1&quot;</td><td>&quot;1&quot;</td><td>&quot;1&quot;</td><td>&quot;1&quot;</td><td>&quot;1&quot;</td><td>&quot;1&quot;</td><td>&quot;1&quot;</td><td>&quot;1&quot;</td><td>&quot;1&quot;</td><td>&quot;1&quot;</td><td>&quot;1&quot;</td><td>&quot;1&quot;</td><td>&quot;1&quot;</td><td>&quot;1&quot;</td><td>&quot;1&quot;</td><td>&quot;1&quot;</td><td>&quot;1&quot;</td><td>&quot;3&quot;</td><td>&quot;1&quot;</td><td>&quot;2&quot;</td></tr><tr><td>&quot;-&quot;</td><td>&quot;1&quot;</td><td>&quot;-&quot;</td><td>&quot;-&quot;</td><td>&quot;-&quot;</td><td>&quot;-&quot;</td><td>&quot;-&quot;</td><td>&quot;-&quot;</td><td>&quot;1&quot;</td><td>&quot;1&quot;</td><td>&quot;1&quot;</td><td>&quot;-&quot;</td><td>&quot;1&quot;</td><td>&quot;1&quot;</td><td>&quot;1&quot;</td><td>&quot;-&quot;</td><td>&quot;&quot;</td><td>&quot;-&quot;</td><td>&quot;1&quot;</td><td>&quot;1&quot;</td><td>&quot;-&quot;</td><td>&quot;-&quot;</td><td>&quot;1&quot;</td><td>&quot;&quot;</td><td>&quot;-&quot;</td><td>&quot;-&quot;</td><td>&quot;1&quot;</td><td>&quot;1&quot;</td><td>&quot;1&quot;</td><td>&quot;1&quot;</td><td>&quot;-&quot;</td><td>&quot;1&quot;</td><td>&quot;-&quot;</td><td>&quot;1&quot;</td><td>&quot;1&quot;</td><td>&quot;1&quot;</td><td>&quot;-&quot;</td><td>&hellip;</td><td>&quot;-&quot;</td><td>&quot;-&quot;</td><td>&quot;1&quot;</td><td>&quot;-&quot;</td><td>&quot;-&quot;</td><td>&quot;-&quot;</td><td>&quot;-&quot;</td><td>&quot;-&quot;</td><td>&quot;-&quot;</td><td>&quot;-&quot;</td><td>&quot;1&quot;</td><td>&quot;-&quot;</td><td>&quot;1&quot;</td><td>&quot;1&quot;</td><td>&quot;-&quot;</td><td>&quot;-&quot;</td><td>&quot;1&quot;</td><td>&quot;-&quot;</td><td>&quot;-&quot;</td><td>&quot;-&quot;</td><td>&quot;-&quot;</td><td>&quot;-&quot;</td><td>&quot;1&quot;</td><td>&quot;-&quot;</td><td>&quot;-&quot;</td><td>&quot;1&quot;</td><td>&quot;1&quot;</td><td>&quot;1&quot;</td><td>&quot;-&quot;</td><td>&quot;1&quot;</td><td>&quot;1&quot;</td><td>&quot;1&quot;</td><td>&quot;-&quot;</td><td>&quot;1&quot;</td><td>&quot;-&quot;</td><td>&quot;-&quot;</td><td>&quot;-&quot;</td></tr><tr><td>&quot;-&quot;</td><td>&quot;-&quot;</td><td>&quot;-&quot;</td><td>&quot;1&quot;</td><td>&quot;-&quot;</td><td>&quot;-&quot;</td><td>&quot;-&quot;</td><td>&quot;-&quot;</td><td>&quot;-&quot;</td><td>&quot;1&quot;</td><td>&quot;-&quot;</td><td>&quot;-&quot;</td><td>&quot;-&quot;</td><td>&quot;-&quot;</td><td>&quot;-&quot;</td><td>&quot;-&quot;</td><td>&quot;&quot;</td><td>&quot;-&quot;</td><td>&quot;2&quot;</td><td>&quot;1&quot;</td><td>&quot;-&quot;</td><td>&quot;-&quot;</td><td>&quot;-&quot;</td><td>&quot;&quot;</td><td>&quot;-&quot;</td><td>&quot;-&quot;</td><td>&quot;2&quot;</td><td>&quot;-&quot;</td><td>&quot;-&quot;</td><td>&quot;-&quot;</td><td>&quot;-&quot;</td><td>&quot;-&quot;</td><td>&quot;-&quot;</td><td>&quot;2&quot;</td><td>&quot;-&quot;</td><td>&quot;1&quot;</td><td>&quot;-&quot;</td><td>&hellip;</td><td>&quot;-&quot;</td><td>&quot;-&quot;</td><td>&quot;-&quot;</td><td>&quot;-&quot;</td><td>&quot;-&quot;</td><td>&quot;-&quot;</td><td>&quot;-&quot;</td><td>&quot;-&quot;</td><td>&quot;-&quot;</td><td>&quot;-&quot;</td><td>&quot;-&quot;</td><td>&quot;-&quot;</td><td>&quot;-&quot;</td><td>&quot;1&quot;</td><td>&quot;-&quot;</td><td>&quot;&quot;</td><td>&quot;-&quot;</td><td>&quot;-&quot;</td><td>&quot;1&quot;</td><td>&quot;-&quot;</td><td>&quot;-&quot;</td><td>&quot;-&quot;</td><td>&quot;-&quot;</td><td>&quot;-&quot;</td><td>&quot;-&quot;</td><td>&quot;-&quot;</td><td>&quot;-&quot;</td><td>&quot;-&quot;</td><td>&quot;-&quot;</td><td>&quot;-&quot;</td><td>&quot;-&quot;</td><td>&quot;-&quot;</td><td>&quot;-&quot;</td><td>&quot;-&quot;</td><td>&quot;-&quot;</td><td>&quot;-&quot;</td><td>&quot;-&quot;</td></tr><tr><td>&quot;1&quot;</td><td>&quot;-&quot;</td><td>&quot;-&quot;</td><td>&quot;-&quot;</td><td>&quot;1&quot;</td><td>&quot;1&quot;</td><td>&quot;-&quot;</td><td>&quot;1&quot;</td><td>&quot;1&quot;</td><td>&quot;-&quot;</td><td>&quot;-&quot;</td><td>&quot;1&quot;</td><td>&quot;-&quot;</td><td>&quot;1&quot;</td><td>&quot;-&quot;</td><td>&quot;1&quot;</td><td>&quot;&quot;</td><td>&quot;1&quot;</td><td>&quot;1&quot;</td><td>&quot;-&quot;</td><td>&quot;-&quot;</td><td>&quot;1&quot;</td><td>&quot;-&quot;</td><td>&quot;&quot;</td><td>&quot;1&quot;</td><td>&quot;-&quot;</td><td>&quot;-&quot;</td><td>&quot;-&quot;</td><td>&quot;-&quot;</td><td>&quot;-&quot;</td><td>&quot;-&quot;</td><td>&quot;-&quot;</td><td>&quot;1&quot;</td><td>&quot;-&quot;</td><td>&quot;-&quot;</td><td>&quot;-&quot;</td><td>&quot;1&quot;</td><td>&hellip;</td><td>&quot;1&quot;</td><td>&quot;-&quot;</td><td>&quot;-&quot;</td><td>&quot;1&quot;</td><td>&quot;1&quot;</td><td>&quot;1&quot;</td><td>&quot;1&quot;</td><td>&quot;1&quot;</td><td>&quot;1&quot;</td><td>&quot;-&quot;</td><td>&quot;-&quot;</td><td>&quot;-&quot;</td><td>&quot;-&quot;</td><td>&quot;-&quot;</td><td>&quot;1&quot;</td><td>&quot;1&quot;</td><td>&quot;-&quot;</td><td>&quot;1&quot;</td><td>&quot;-&quot;</td><td>&quot;-&quot;</td><td>&quot;1&quot;</td><td>&quot;1&quot;</td><td>&quot;-&quot;</td><td>&quot;-&quot;</td><td>&quot;1&quot;</td><td>&quot;-&quot;</td><td>&quot;-&quot;</td><td>&quot;-&quot;</td><td>&quot;-&quot;</td><td>&quot;-&quot;</td><td>&quot;-&quot;</td><td>&quot;-&quot;</td><td>&quot;1&quot;</td><td>&quot;-&quot;</td><td>&quot;3&quot;</td><td>&quot;-&quot;</td><td>&quot;2&quot;</td></tr><tr><td>&quot;-&quot;</td><td>&quot;-&quot;</td><td>&quot;1&quot;</td><td>&quot;-&quot;</td><td>&quot;-&quot;</td><td>&quot;-&quot;</td><td>&quot;1&quot;</td><td>&quot;-&quot;</td><td>&quot;-&quot;</td><td>&quot;-&quot;</td><td>&quot;-&quot;</td><td>&quot;-&quot;</td><td>&quot;-&quot;</td><td>&quot;-&quot;</td><td>&quot;-&quot;</td><td>&quot;-&quot;</td><td>&quot;&quot;</td><td>&quot;-&quot;</td><td>&quot;-&quot;</td><td>&quot;-&quot;</td><td>&quot;1&quot;</td><td>&quot;-&quot;</td><td>&quot;-&quot;</td><td>&quot;&quot;</td><td>&quot;-&quot;</td><td>&quot;1&quot;</td><td>&quot;-&quot;</td><td>&quot;-&quot;</td><td>&quot;-&quot;</td><td>&quot;-&quot;</td><td>&quot;-&quot;</td><td>&quot;-&quot;</td><td>&quot;-&quot;</td><td>&quot;-&quot;</td><td>&quot;-&quot;</td><td>&quot;-&quot;</td><td>&quot;-&quot;</td><td>&hellip;</td><td>&quot;-&quot;</td><td>&quot;1&quot;</td><td>&quot;-&quot;</td><td>&quot;-&quot;</td><td>&quot;-&quot;</td><td>&quot;-&quot;</td><td>&quot;-&quot;</td><td>&quot;-&quot;</td><td>&quot;-&quot;</td><td>&quot;1&quot;</td><td>&quot;-&quot;</td><td>&quot;1&quot;</td><td>&quot;-&quot;</td><td>&quot;-&quot;</td><td>&quot;-&quot;</td><td>&quot;-&quot;</td><td>&quot;-&quot;</td><td>&quot;-&quot;</td><td>&quot;-&quot;</td><td>&quot;1&quot;</td><td>&quot;-&quot;</td><td>&quot;-&quot;</td><td>&quot;-&quot;</td><td>&quot;1&quot;</td><td>&quot;-&quot;</td><td>&quot;-&quot;</td><td>&quot;-&quot;</td><td>&quot;-&quot;</td><td>&quot;1&quot;</td><td>&quot;-&quot;</td><td>&quot;-&quot;</td><td>&quot;-&quot;</td><td>&quot;-&quot;</td><td>&quot;-&quot;</td><td>&quot;-&quot;</td><td>&quot;1&quot;</td><td>&quot;-&quot;</td></tr><tr><td>&quot;-&quot;</td><td>&quot;-&quot;</td><td>&quot;1&quot;</td><td>&quot;-&quot;</td><td>&quot;-&quot;</td><td>&quot;-&quot;</td><td>&quot;1&quot;</td><td>&quot;-&quot;</td><td>&quot;1&quot;</td><td>&quot;2&quot;</td><td>&quot;-&quot;</td><td>&quot;-&quot;</td><td>&quot;1&quot;</td><td>&quot;1&quot;</td><td>&quot;1&quot;</td><td>&quot;-&quot;</td><td>&quot;&quot;</td><td>&quot;-&quot;</td><td>&quot;4&quot;</td><td>&quot;2&quot;</td><td>&quot;1&quot;</td><td>&quot;-&quot;</td><td>&quot;1&quot;</td><td>&quot;&quot;</td><td>&quot;-&quot;</td><td>&quot;1&quot;</td><td>&quot;3&quot;</td><td>&quot;1&quot;</td><td>&quot;1&quot;</td><td>&quot;1&quot;</td><td>&quot;-&quot;</td><td>&quot;1&quot;</td><td>&quot;-&quot;</td><td>&quot;3&quot;</td><td>&quot;1&quot;</td><td>&quot;2&quot;</td><td>&quot;-&quot;</td><td>&hellip;</td><td>&quot;-&quot;</td><td>&quot;1&quot;</td><td>&quot;1&quot;</td><td>&quot;-&quot;</td><td>&quot;-&quot;</td><td>&quot;-&quot;</td><td>&quot;-&quot;</td><td>&quot;-&quot;</td><td>&quot;-&quot;</td><td>&quot;1&quot;</td><td>&quot;1&quot;</td><td>&quot;1&quot;</td><td>&quot;1&quot;</td><td>&quot;2&quot;</td><td>&quot;-&quot;</td><td>&quot;-&quot;</td><td>&quot;1&quot;</td><td>&quot;-&quot;</td><td>&quot;1&quot;</td><td>&quot;1&quot;</td><td>&quot;-&quot;</td><td>&quot;-&quot;</td><td>&quot;1&quot;</td><td>&quot;1&quot;</td><td>&quot;-&quot;</td><td>&quot;1&quot;</td><td>&quot;1&quot;</td><td>&quot;1&quot;</td><td>&quot;1&quot;</td><td>&quot;1&quot;</td><td>&quot;1&quot;</td><td>&quot;1&quot;</td><td>&quot;-&quot;</td><td>&quot;1&quot;</td><td>&quot;-&quot;</td><td>&quot;1&quot;</td><td>&quot;-&quot;</td></tr><tr><td>&quot;-&quot;</td><td>&quot;-&quot;</td><td>&quot;-&quot;</td><td>&quot;-&quot;</td><td>&quot;-&quot;</td><td>&quot;-&quot;</td><td>&quot;-&quot;</td><td>&quot;-&quot;</td><td>&quot;-&quot;</td><td>&quot;-&quot;</td><td>&quot;-&quot;</td><td>&quot;-&quot;</td><td>&quot;Y&quot;</td><td>&quot;3&quot;</td><td>&quot;Y&quot;</td><td>&quot;-&quot;</td><td>&quot;-&quot;</td><td>&quot;-&quot;</td><td>&quot;-&quot;</td><td>&quot;-&quot;</td><td>&quot;-&quot;</td><td>&quot;-&quot;</td><td>&quot;-&quot;</td><td>&quot;-&quot;</td><td>&quot;-&quot;</td><td>&quot;-&quot;</td><td>&quot;-&quot;</td><td>&quot;-&quot;</td><td>&quot;-&quot;</td><td>&quot;Y&quot;</td><td>&quot;-&quot;</td><td>&quot;Y&quot;</td><td>&quot;-&quot;</td><td>&quot;-&quot;</td><td>&quot;-&quot;</td><td>&quot;-&quot;</td><td>&quot;-&quot;</td><td>&hellip;</td><td>&quot;S&quot;</td><td>&quot;-&quot;</td><td>&quot;-&quot;</td><td>&quot;-&quot;</td><td>&quot;-&quot;</td><td>&quot;-&quot;</td><td>&quot;S&quot;</td><td>&quot;-&quot;</td><td>&quot;-&quot;</td><td>&quot;-&quot;</td><td>&quot;-&quot;</td><td>&quot;X&quot;</td><td>&quot;S&quot;</td><td>&quot;-&quot;</td><td>&quot;S&quot;</td><td>&quot;-&quot;</td><td>&quot;-&quot;</td><td>&quot;-&quot;</td><td>&quot;S&quot;</td><td>&quot;-&quot;</td><td>&quot;S&quot;</td><td>&quot;-&quot;</td><td>&quot;-&quot;</td><td>&quot;S&quot;</td><td>&quot;-&quot;</td><td>&quot;S&quot;</td><td>&quot;-&quot;</td><td>&quot;-&quot;</td><td>&quot;-&quot;</td><td>&quot;-&quot;</td><td>&quot;S&quot;</td><td>&quot;-&quot;</td><td>&quot;-&quot;</td><td>&quot;-&quot;</td><td>&quot;-&quot;</td><td>&quot;-&quot;</td><td>&quot;S&quot;</td></tr><tr><td>&quot;-&quot;</td><td>&quot;-&quot;</td><td>&quot;-&quot;</td><td>&quot;-&quot;</td><td>&quot;-&quot;</td><td>&quot;-&quot;</td><td>&quot;-&quot;</td><td>&quot;-&quot;</td><td>&quot;-&quot;</td><td>&quot;-&quot;</td><td>&quot;-&quot;</td><td>&quot;-&quot;</td><td>&quot;-&quot;</td><td>&quot;-&quot;</td><td>&quot;-&quot;</td><td>&quot;-&quot;</td><td>&quot;-&quot;</td><td>&quot;-&quot;</td><td>&quot;-&quot;</td><td>&quot;-&quot;</td><td>&quot;-&quot;</td><td>&quot;-&quot;</td><td>&quot;-&quot;</td><td>&quot;-&quot;</td><td>&quot;-&quot;</td><td>&quot;-&quot;</td><td>&quot;-&quot;</td><td>&quot;-&quot;</td><td>&quot;-&quot;</td><td>&quot;1&quot;</td><td>&quot;-&quot;</td><td>&quot;-&quot;</td><td>&quot;-&quot;</td><td>&quot;-&quot;</td><td>&quot;-&quot;</td><td>&quot;-&quot;</td><td>&quot;-&quot;</td><td>&hellip;</td><td>&quot;-&quot;</td><td>&quot;-&quot;</td><td>&quot;-&quot;</td><td>&quot;-&quot;</td><td>&quot;-&quot;</td><td>&quot;-&quot;</td><td>&quot;-&quot;</td><td>&quot;-&quot;</td><td>&quot;-&quot;</td><td>&quot;-&quot;</td><td>&quot;-&quot;</td><td>&quot;-&quot;</td><td>&quot;-&quot;</td><td>&quot;-&quot;</td><td>&quot;-&quot;</td><td>&quot;-&quot;</td><td>&quot;-&quot;</td><td>&quot;-&quot;</td><td>&quot;-&quot;</td><td>&quot;-&quot;</td><td>&quot;-&quot;</td><td>&quot;-&quot;</td><td>&quot;1&quot;</td><td>&quot;-&quot;</td><td>&quot;-&quot;</td><td>&quot;1&quot;</td><td>&quot;-&quot;</td><td>&quot;&quot;</td><td>&quot;-&quot;</td><td>&quot;-&quot;</td><td>&quot;-&quot;</td><td>&quot;-&quot;</td><td>&quot;-&quot;</td><td>&quot;-&quot;</td><td>&quot;-&quot;</td><td>&quot;-&quot;</td><td>&quot;-&quot;</td></tr><tr><td>&quot;-&quot;</td><td>&quot;-&quot;</td><td>&quot;-&quot;</td><td>&quot;-&quot;</td><td>&quot;-&quot;</td><td>&quot;-&quot;</td><td>&quot;-&quot;</td><td>&quot;-&quot;</td><td>&quot;-&quot;</td><td>&quot;-&quot;</td><td>&quot;-&quot;</td><td>&quot;-&quot;</td><td>&quot;-&quot;</td><td>&quot;-&quot;</td><td>&quot;-&quot;</td><td>&quot;-&quot;</td><td>&quot;-&quot;</td><td>&quot;-&quot;</td><td>&quot;-&quot;</td><td>&quot;-&quot;</td><td>&quot;-&quot;</td><td>&quot;-&quot;</td><td>&quot;-&quot;</td><td>&quot;-&quot;</td><td>&quot;-&quot;</td><td>&quot;-&quot;</td><td>&quot;-&quot;</td><td>&quot;-&quot;</td><td>&quot;-&quot;</td><td>&quot;13781-5996&quot;</td><td>&quot;-&quot;</td><td>&quot;-&quot;</td><td>&quot;-&quot;</td><td>&quot;-&quot;</td><td>&quot;-&quot;</td><td>&quot;-&quot;</td><td>&quot;-&quot;</td><td>&hellip;</td><td>&quot;-&quot;</td><td>&quot;-&quot;</td><td>&quot;-&quot;</td><td>&quot;-&quot;</td><td>&quot;-&quot;</td><td>&quot;-&quot;</td><td>&quot;-&quot;</td><td>&quot;-&quot;</td><td>&quot;-&quot;</td><td>&quot;-&quot;</td><td>&quot;-&quot;</td><td>&quot;-&quot;</td><td>&quot;-&quot;</td><td>&quot;-&quot;</td><td>&quot;-&quot;</td><td>&quot;-&quot;</td><td>&quot;-&quot;</td><td>&quot;-&quot;</td><td>&quot;-&quot;</td><td>&quot;-&quot;</td><td>&quot;-&quot;</td><td>&quot;-&quot;</td><td>&quot;missing&quot;</td><td>&quot;-&quot;</td><td>&quot;-&quot;</td><td>&quot;missing&quot;</td><td>&quot;-&quot;</td><td>&quot;-&quot;</td><td>&quot;-&quot;</td><td>&quot;-&quot;</td><td>&quot;-&quot;</td><td>&quot;-&quot;</td><td>&quot;-&quot;</td><td>&quot;-&quot;</td><td>&quot;-&quot;</td><td>&quot;-&quot;</td><td>&quot;-&quot;</td></tr><tr><td>&quot;-&quot;</td><td>&quot;-&quot;</td><td>&quot;-&quot;</td><td>&quot;-&quot;</td><td>&quot;-&quot;</td><td>&quot;-&quot;</td><td>&quot;-&quot;</td><td>&quot;-&quot;</td><td>&quot;-&quot;</td><td>&quot;-&quot;</td><td>&quot;-&quot;</td><td>&quot;-&quot;</td><td>&quot;-&quot;</td><td>&quot;-&quot;</td><td>&quot;-&quot;</td><td>&quot;-&quot;</td><td>&quot;-&quot;</td><td>&quot;-&quot;</td><td>&quot;-&quot;</td><td>&quot;-&quot;</td><td>&quot;-&quot;</td><td>&quot;-&quot;</td><td>&quot;-&quot;</td><td>&quot;-&quot;</td><td>&quot;-&quot;</td><td>&quot;-&quot;</td><td>&quot;-&quot;</td><td>&quot;-&quot;</td><td>&quot;-&quot;</td><td>&quot;1&quot;</td><td>&quot;-&quot;</td><td>&quot;-&quot;</td><td>&quot;-&quot;</td><td>&quot;-&quot;</td><td>&quot;-&quot;</td><td>&quot;-&quot;</td><td>&quot;-&quot;</td><td>&hellip;</td><td>&quot;-&quot;</td><td>&quot;-&quot;</td><td>&quot;-&quot;</td><td>&quot;-&quot;</td><td>&quot;-&quot;</td><td>&quot;-&quot;</td><td>&quot;-&quot;</td><td>&quot;-&quot;</td><td>&quot;-&quot;</td><td>&quot;-&quot;</td><td>&quot;-&quot;</td><td>&quot;-&quot;</td><td>&quot;-&quot;</td><td>&quot;-&quot;</td><td>&quot;-&quot;</td><td>&quot;-&quot;</td><td>&quot;-&quot;</td><td>&quot;-&quot;</td><td>&quot;-&quot;</td><td>&quot;-&quot;</td><td>&quot;-&quot;</td><td>&quot;-&quot;</td><td>&quot;1&quot;</td><td>&quot;-&quot;</td><td>&quot;-&quot;</td><td>&quot;1&quot;</td><td>&quot;-&quot;</td><td>&quot;-&quot;</td><td>&quot;-&quot;</td><td>&quot;-&quot;</td><td>&quot;-&quot;</td><td>&quot;-&quot;</td><td>&quot;-&quot;</td><td>&quot;-&quot;</td><td>&quot;-&quot;</td><td>&quot;-&quot;</td><td>&quot;-&quot;</td></tr><tr><td>&quot;-&quot;</td><td>&quot;-&quot;</td><td>&quot;-&quot;</td><td>&quot;-&quot;</td><td>&quot;-&quot;</td><td>&quot;-&quot;</td><td>&quot;-&quot;</td><td>&quot;-&quot;</td><td>&quot;-&quot;</td><td>&quot;-&quot;</td><td>&quot;&quot;</td><td>&quot;-&quot;</td><td>&quot;-&quot;</td><td>&quot;-&quot;</td><td>&quot;-&quot;</td><td>&quot;-&quot;</td><td>&quot;-&quot;</td><td>&quot;-&quot;</td><td>&quot;-&quot;</td><td>&quot;-&quot;</td><td>&quot;-&quot;</td><td>&quot;-&quot;</td><td>&quot;-&quot;</td><td>&quot;-&quot;</td><td>&quot;-&quot;</td><td>&quot;-&quot;</td><td>&quot;-&quot;</td><td>&quot;-&quot;</td><td>&quot;-&quot;</td><td>&quot;-&quot;</td><td>&quot;-&quot;</td><td>&quot;-&quot;</td><td>&quot;-&quot;</td><td>&quot;-&quot;</td><td>&quot;-&quot;</td><td>&quot;-&quot;</td><td>&quot;-&quot;</td><td>&hellip;</td><td>&quot;-&quot;</td><td>&quot;-&quot;</td><td>&quot;-&quot;</td><td>&quot;-&quot;</td><td>&quot;-&quot;</td><td>&quot;-&quot;</td><td>&quot;-&quot;</td><td>&quot;-&quot;</td><td>&quot;-&quot;</td><td>&quot;-&quot;</td><td>&quot;-&quot;</td><td>&quot;-&quot;</td><td>&quot;-&quot;</td><td>&quot;-&quot;</td><td>&quot;-&quot;</td><td>&quot;-&quot;</td><td>&quot;-&quot;</td><td>&quot;-&quot;</td><td>&quot;-&quot;</td><td>&quot;-&quot;</td><td>&quot;-&quot;</td><td>&quot;-&quot;</td><td>&quot;&quot;But Mr. Brown…</td><td>&quot;-&quot;</td><td>&quot;-&quot;</td><td>&quot;&quot;Vehicle maker…</td><td>&quot;-&quot;</td><td>&quot;-&quot;</td><td>&quot;-&quot;</td><td>&quot;-&quot;</td><td>&quot;-&quot;</td><td>&quot;-&quot;</td><td>&quot;-&quot;</td><td>&quot;-&quot;</td><td>&quot;-&quot;</td><td>&quot;-&quot;</td><td>&quot;-&quot;</td></tr><tr><td>&quot;https://web.ar…</td><td>&quot;https://web.ar…</td><td>&quot;https://web.ar…</td><td>&quot;https://web.ar…</td><td>&quot;https://web.ar…</td><td>&quot;https://web.ar…</td><td>&quot;https://web.ar…</td><td>&quot;https://web.ar…</td><td>&quot;https://web.ar…</td><td>&quot;https://web.ar…</td><td>&quot;https://archiv…</td><td>&quot;https://web.ar…</td><td>&quot;https://web.ar…</td><td>&quot;https://web.ar…</td><td>&quot;https://web.ar…</td><td>&quot;https://web.ar…</td><td>&quot;https://web.ar…</td><td>&quot;https://web.ar…</td><td>&quot;https://web.ar…</td><td>&quot;https://web.ar…</td><td>&quot;https://web.ar…</td><td>&quot;https://web.ar…</td><td>&quot;https://web.ar…</td><td>&quot;https://web.ar…</td><td>&quot;https://web.ar…</td><td>&quot;https://web.ar…</td><td>&quot;https://web.ar…</td><td>&quot;https://web.ar…</td><td>&quot;https://web.ar…</td><td>&quot;https://web.ar…</td><td>&quot;https://web.ar…</td><td>&quot;https://web.ar…</td><td>&quot;https://web.ar…</td><td>&quot;https://web.ar…</td><td>&quot;https://web.ar…</td><td>&quot;https://web.ar…</td><td>&quot;https://web.ar…</td><td>&hellip;</td><td>&quot;https://web.ar…</td><td>&quot;https://web.ar…</td><td>&quot;https://web.ar…</td><td>&quot;https://web.ar…</td><td>&quot;https://web.ar…</td><td>&quot;https://web.ar…</td><td>&quot;https://web.ar…</td><td>&quot;https://www.co…</td><td>&quot;https://web.ar…</td><td>&quot;https://web.ar…</td><td>&quot;https://web.ar…</td><td>&quot;https://walter…</td><td>&quot;https://web.ar…</td><td>&quot;https://web.ar…</td><td>&quot;https://web.ar…</td><td>&quot;https://web.ar…</td><td>&quot;https://archiv…</td><td>&quot;https://web.ar…</td><td>&quot;https://web.ar…</td><td>&quot;https://web.ar…</td><td>&quot;https://web.ar…</td><td>&quot;https://web.ar…</td><td>&quot;https://web.ar…</td><td>&quot;https://web.ar…</td><td>&quot;https://web.ar…</td><td>&quot;https://web.ar…</td><td>&quot;https://web.ar…</td><td>&quot;https://web.ar…</td><td>&quot;https://web.ar…</td><td>&quot;https://web.ar…</td><td>&quot;https://web.ar…</td><td>&quot;https://web.ar…</td><td>&quot;https://web.ar…</td><td>&quot;https://web.ar…</td><td>&quot;https://web.ar…</td><td>&quot;https://web.ar…</td><td>&quot;https://web.ar…</td></tr><tr><td>&quot;&quot;</td><td>&quot;&quot;</td><td>&quot;&quot;</td><td>&quot;&quot;</td><td>&quot;&quot;</td><td>&quot;&quot;</td><td>&quot;&quot;</td><td>&quot;&quot;</td><td>&quot;&quot;</td><td>&quot;&quot;</td><td>&quot;&quot;</td><td>&quot;&quot;</td><td>&quot;&quot;</td><td>&quot;&quot;</td><td>&quot;&quot;</td><td>&quot;&quot;</td><td>&quot;&quot;</td><td>&quot;&quot;</td><td>&quot;&quot;</td><td>&quot;&quot;</td><td>&quot;&quot;</td><td>&quot;&quot;</td><td>&quot;&quot;</td><td>&quot;&quot;</td><td>&quot;&quot;</td><td>&quot;&quot;</td><td>&quot;&quot;</td><td>&quot;&quot;</td><td>&quot;&quot;</td><td>&quot;&quot;</td><td>&quot;&quot;</td><td>&quot;&quot;</td><td>&quot;&quot;</td><td>&quot;&quot;</td><td>&quot;&quot;</td><td>&quot;&quot;</td><td>&quot;&quot;</td><td>&hellip;</td><td>&quot;&quot;</td><td>&quot;&quot;</td><td>&quot;Twitter search…</td><td>&quot;&quot;</td><td>&quot;&quot;</td><td>&quot;&quot;</td><td>&quot;News report de…</td><td>&quot;&quot;</td><td>&quot;&quot;</td><td>&quot;&quot;</td><td>&quot;&quot;</td><td>&quot;&quot;</td><td>&quot;In NHTSA-FARS …</td><td>&quot;&quot;</td><td>&quot;&quot;</td><td>&quot;&quot;</td><td>&quot;&quot;</td><td>&quot;&quot;</td><td>&quot;&quot;</td><td>&quot;&quot;</td><td>&quot;&quot;</td><td>&quot;&quot;</td><td>&quot;&quot;</td><td>&quot;&quot;</td><td>&quot;&quot;</td><td>&quot;&quot;</td><td>&quot;&quot;</td><td>&quot;&quot;</td><td>&quot;&quot;</td><td>&quot;&quot;</td><td>&quot;&quot;</td><td>&quot;&quot;</td><td>&quot;&quot;</td><td>&quot;&quot;</td><td>&quot;&quot;</td><td>&quot;&quot;</td><td>&quot;&quot;</td></tr><tr><td>&quot;&quot;</td><td>&quot;&quot;</td><td>&quot;&quot;</td><td>&quot;&quot;</td><td>&quot;&quot;</td><td>&quot;Joseph Cruz&quot;</td><td>&quot;&quot;</td><td>&quot;Balbina Andrad…</td><td>&quot;&quot;</td><td>&quot;Alfred Valles&quot;</td><td>&quot;William Hensle…</td><td>&quot;&quot;</td><td>&quot;&quot;</td><td>&quot;&quot;</td><td>&quot;&quot;</td><td>&quot;Chris Clifford…</td><td>&quot;Raymond Ramage…</td><td>&quot;April Sawyer&quot;</td><td>&quot;&quot;</td><td>&quot;Frances Adams&quot;</td><td>&quot;&quot;</td><td>&quot;&quot;</td><td>&quot;&quot;</td><td>&quot;Oscar Mancilla…</td><td>&quot;&quot;</td><td>&quot;&quot;</td><td>&quot;Robert Pikus&quot;</td><td>&quot;&quot;</td><td>&quot;Jillian Daly&quot;</td><td>&quot;Pablo Teodoro …</td><td>&quot;&quot;</td><td>&quot;&quot;</td><td>&quot;&quot;</td><td>&quot;&quot;</td><td>&quot;&quot;</td><td>&quot;Amrik Wander&quot;</td><td>&quot;&quot;</td><td>&hellip;</td><td>&quot;&quot;</td><td>&quot;&quot;</td><td>&quot;Joel Michael&quot;</td><td>&quot;Greg Dolphin&quot;</td><td>&quot;&quot;</td><td>&quot;&quot;</td><td>&quot;&quot;</td><td>&quot;Bryant Gonzale…</td><td>&quot;&quot;</td><td>&quot;&quot;</td><td>&quot;&quot;</td><td>&quot;James Scott&quot;</td><td>&quot;&quot;</td><td>&quot;Casey Speckman…</td><td>&quot;&quot;</td><td>&quot;&quot;</td><td>&quot;&quot;</td><td>&quot;&quot;</td><td>&quot;&quot;</td><td>&quot;&quot;</td><td>&quot;&quot;</td><td>&quot;&quot;</td><td>&quot;Joshua Brown&quot;</td><td>&quot;&quot;</td><td>&quot;&quot;</td><td>&quot;Gao Yaning&quot;</td><td>&quot;&quot;</td><td>&quot;&quot;</td><td>&quot;&quot;</td><td>&quot;Tim Devine&quot;</td><td>&quot;Peter Kleis&quot;</td><td>&quot;Louis Francis …</td><td>&quot;&quot;</td><td>&quot;Joshua Slot&quot;</td><td>&quot;&quot;</td><td>&quot;&quot;</td><td>&quot;Alberto Casiqu…</td></tr><tr><td>&quot;&quot;</td><td>&quot;&quot;</td><td>&quot;&quot;</td><td>&quot;&quot;</td><td>&quot;&quot;</td><td>&quot;&quot;</td><td>&quot;&quot;</td><td>&quot;&quot;</td><td>&quot;&quot;</td><td>&quot;Selina Valles&quot;</td><td>&quot;&quot;</td><td>&quot;&quot;</td><td>&quot;&quot;</td><td>&quot;&quot;</td><td>&quot;&quot;</td><td>&quot;&quot;</td><td>&quot;Peter Zepf&quot;</td><td>&quot;&quot;</td><td>&quot;&quot;</td><td>&quot;James Adams&quot;</td><td>&quot;&quot;</td><td>&quot;&quot;</td><td>&quot;&quot;</td><td>&quot;&quot;</td><td>&quot;&quot;</td><td>&quot;&quot;</td><td>&quot;Joseph Torman&quot;</td><td>&quot;&quot;</td><td>&quot;&quot;</td><td>&quot;&quot;</td><td>&quot;&quot;</td><td>&quot;&quot;</td><td>&quot;&quot;</td><td>&quot;&quot;</td><td>&quot;&quot;</td><td>&quot;Arvind Ram&quot;</td><td>&quot;&quot;</td><td>&hellip;</td><td>&quot;&quot;</td><td>&quot;&quot;</td><td>&quot;&quot;</td><td>&quot;&quot;</td><td>&quot;&quot;</td><td>&quot;&quot;</td><td>&quot;&quot;</td><td>&quot;&quot;</td><td>&quot;&quot;</td><td>&quot;&quot;</td><td>&quot;&quot;</td><td>&quot;&quot;</td><td>&quot;&quot;</td><td>&quot;Kevin McCarthy…</td><td>&quot;&quot;</td><td>&quot;&quot;</td><td>&quot;&quot;</td><td>&quot;&quot;</td><td>&quot;&quot;</td><td>&quot;&quot;</td><td>&quot;&quot;</td><td>&quot;&quot;</td><td>&quot;&quot;</td><td>&quot;&quot;</td><td>&quot;&quot;</td><td>&quot;&quot;</td><td>&quot;&quot;</td><td>&quot;&quot;</td><td>&quot;&quot;</td><td>&quot;&quot;</td><td>&quot;&quot;</td><td>&quot;&quot;</td><td>&quot;&quot;</td><td>&quot;&quot;</td><td>&quot;&quot;</td><td>&quot;&quot;</td><td>&quot;Armando Garcia…</td></tr><tr><td>&quot;&quot;</td><td>&quot;&quot;</td><td>&quot;&quot;</td><td>&quot;&quot;</td><td>&quot;&quot;</td><td>&quot;&quot;</td><td>&quot;&quot;</td><td>&quot;&quot;</td><td>&quot;&quot;</td><td>&quot;&quot;</td><td>&quot;&quot;</td><td>&quot;&quot;</td><td>&quot;&quot;</td><td>&quot;&quot;</td><td>&quot;&quot;</td><td>&quot;&quot;</td><td>&quot;Katelin Lorch&quot;</td><td>&quot;&quot;</td><td>&quot;&quot;</td><td>&quot;&quot;</td><td>&quot;&quot;</td><td>&quot;&quot;</td><td>&quot;&quot;</td><td>&quot;&quot;</td><td>&quot;&quot;</td><td>&quot;&quot;</td><td>&quot;Joseph Vashaw&quot;</td><td>&quot;&quot;</td><td>&quot;&quot;</td><td>&quot;&quot;</td><td>&quot;&quot;</td><td>&quot;&quot;</td><td>&quot;&quot;</td><td>&quot;&quot;</td><td>&quot;&quot;</td><td>&quot;&quot;</td><td>&quot;&quot;</td><td>&hellip;</td><td>&quot;&quot;</td><td>&quot;&quot;</td><td>&quot;&quot;</td><td>&quot;&quot;</td><td>&quot;&quot;</td><td>&quot;&quot;</td><td>&quot;&quot;</td><td>&quot;&quot;</td><td>&quot;&quot;</td><td>&quot;&quot;</td><td>&quot;&quot;</td><td>&quot;&quot;</td><td>&quot;&quot;</td><td>&quot;&quot;</td><td>&quot;&quot;</td><td>&quot;&quot;</td><td>&quot;&quot;</td><td>&quot;&quot;</td><td>&quot;&quot;</td><td>&quot;&quot;</td><td>&quot;&quot;</td><td>&quot;&quot;</td><td>&quot;&quot;</td><td>&quot;&quot;</td><td>&quot;&quot;</td><td>&quot;&quot;</td><td>&quot;&quot;</td><td>&quot;&quot;</td><td>&quot;&quot;</td><td>&quot;&quot;</td><td>&quot;&quot;</td><td>&quot;&quot;</td><td>&quot;&quot;</td><td>&quot;&quot;</td><td>&quot;&quot;</td><td>&quot;&quot;</td><td>&quot;&quot;</td></tr><tr><td>&quot;&quot;</td><td>&quot;&quot;</td><td>&quot;&quot;</td><td>&quot;&quot;</td><td>&quot;&quot;</td><td>&quot;&quot;</td><td>&quot;&quot;</td><td>&quot;&quot;</td><td>&quot;&quot;</td><td>&quot;&quot;</td><td>&quot;&quot;</td><td>&quot;&quot;</td><td>&quot;&quot;</td><td>&quot;&quot;</td><td>&quot;&quot;</td><td>&quot;&quot;</td><td>&quot;&quot;</td><td>&quot;&quot;</td><td>&quot;&quot;</td><td>&quot;&quot;</td><td>&quot;&quot;</td><td>&quot;&quot;</td><td>&quot;&quot;</td><td>&quot;&quot;</td><td>&quot;&quot;</td><td>&quot;&quot;</td><td>&quot;&quot;</td><td>&quot;&quot;</td><td>&quot;&quot;</td><td>&quot;&quot;</td><td>&quot;&quot;</td><td>&quot;&quot;</td><td>&quot;&quot;</td><td>&quot;&quot;</td><td>&quot;&quot;</td><td>&quot;&quot;</td><td>&quot;&quot;</td><td>&hellip;</td><td>&quot;&quot;</td><td>&quot;&quot;</td><td>&quot;&quot;</td><td>&quot;&quot;</td><td>&quot;&quot;</td><td>&quot;&quot;</td><td>&quot;&quot;</td><td>&quot;&quot;</td><td>&quot;&quot;</td><td>&quot;&quot;</td><td>&quot;&quot;</td><td>&quot;&quot;</td><td>&quot;&quot;</td><td>&quot;&quot;</td><td>&quot;&quot;</td><td>&quot;&quot;</td><td>&quot;&quot;</td><td>&quot;&quot;</td><td>&quot;&quot;</td><td>&quot;&quot;</td><td>&quot;&quot;</td><td>&quot;&quot;</td><td>&quot;&quot;</td><td>&quot;&quot;</td><td>&quot;&quot;</td><td>&quot;&quot;</td><td>&quot;&quot;</td><td>&quot;&quot;</td><td>&quot;&quot;</td><td>&quot;&quot;</td><td>&quot;&quot;</td><td>&quot;&quot;</td><td>&quot;&quot;</td><td>&quot;&quot;</td><td>&quot;&quot;</td><td>&quot;&quot;</td><td>&quot;&quot;</td></tr></tbody></table></div>"
      ],
      "text/plain": [
       "shape: (23, 387)\n",
       "┌───────────┬───────────┬───────────┬───────────┬───┬───────────┬───────────┬───────────┬──────────┐\n",
       "│ column_0  ┆ column_1  ┆ column_2  ┆ column_3  ┆ … ┆ column_38 ┆ column_38 ┆ column_38 ┆ column_3 │\n",
       "│ ---       ┆ ---       ┆ ---       ┆ ---       ┆   ┆ 3         ┆ 4         ┆ 5         ┆ 86       │\n",
       "│ str       ┆ str       ┆ str       ┆ str       ┆   ┆ ---       ┆ ---       ┆ ---       ┆ ---      │\n",
       "│           ┆           ┆           ┆           ┆   ┆ str       ┆ str       ┆ str       ┆ str      │\n",
       "╞═══════════╪═══════════╪═══════════╪═══════════╪═══╪═══════════╪═══════════╪═══════════╪══════════╡\n",
       "│ 377       ┆ 376       ┆ 375       ┆ 374       ┆ … ┆ 4         ┆ 3         ┆ 2         ┆ 1        │\n",
       "│ 2023      ┆ 2023      ┆ 2023      ┆ 2023      ┆ … ┆ 2014      ┆ 2014      ┆ 2013      ┆ 2013     │\n",
       "│ 11/15/202 ┆ 11/4/2023 ┆ 11/3/2023 ┆ 10/30/202 ┆ … ┆ 7/4/2014  ┆ 7/4/2014  ┆ 11/2/2013 ┆ 4/2/2013 │\n",
       "│ 3         ┆           ┆           ┆ 3         ┆   ┆           ┆           ┆           ┆          │\n",
       "│ USA       ┆ USA       ┆ USA       ┆ USA       ┆ … ┆ USA       ┆ USA       ┆ USA       ┆ USA      │\n",
       "│ NC        ┆ WA        ┆ FL        ┆ NY        ┆ … ┆ CA        ┆ CA        ┆ CA        ┆ CA       │\n",
       "│ …         ┆ …         ┆ …         ┆ …         ┆ … ┆ …         ┆ …         ┆ …         ┆ …        │\n",
       "│           ┆           ┆           ┆           ┆ … ┆           ┆           ┆           ┆          │\n",
       "│           ┆           ┆           ┆           ┆ … ┆ Joshua    ┆           ┆           ┆ Alberto  │\n",
       "│           ┆           ┆           ┆           ┆   ┆ Slot      ┆           ┆           ┆ Casique- │\n",
       "│           ┆           ┆           ┆           ┆   ┆           ┆           ┆           ┆ Salinas  │\n",
       "│           ┆           ┆           ┆           ┆ … ┆           ┆           ┆           ┆ Armando  │\n",
       "│           ┆           ┆           ┆           ┆   ┆           ┆           ┆           ┆ Garcia-G │\n",
       "│           ┆           ┆           ┆           ┆   ┆           ┆           ┆           ┆ onzales  │\n",
       "│           ┆           ┆           ┆           ┆ … ┆           ┆           ┆           ┆          │\n",
       "│           ┆           ┆           ┆           ┆ … ┆           ┆           ┆           ┆          │\n",
       "└───────────┴───────────┴───────────┴───────────┴───┴───────────┴───────────┴───────────┴──────────┘"
      ]
     },
     "execution_count": 11,
     "metadata": {},
     "output_type": "execute_result"
    }
   ],
   "source": [
    "import polars as pl\n",
    "\n",
    "pl_rows = pl.DataFrame(rows)\n",
    "pl_rows\n"
   ]
  },
  {
   "cell_type": "code",
   "execution_count": 12,
   "metadata": {},
   "outputs": [
    {
     "data": {
      "text/plain": [
       "Case #                                      object\n",
       "Year                                        object\n",
       "Date                                        object\n",
       "Country                                     object\n",
       "State                                       object\n",
       "Description                                 object\n",
       "Deaths                                       int64\n",
       "Tesla driver                                 int64\n",
       "Tesla occupant                               int64\n",
       "Other vehicle                                int64\n",
       "Cyclists/ Peds                               int64\n",
       "TSLA+cycl / peds                             int64\n",
       "Model                                       object\n",
       "AutoPilot claimed                           object\n",
       "Reported in NHTSA SGO                       object\n",
       "Verified Tesla Autopilot Death              object\n",
       "Excerpt Verifying Tesla Autopilot Deaths    object\n",
       "Source                                      object\n",
       "Note                                        object\n",
       "Deceased 1                                  object\n",
       "Deceased 2                                  object\n",
       "Deceased 3                                  object\n",
       "Deceased 4                                  object\n",
       "dtype: object"
      ]
     },
     "execution_count": 12,
     "metadata": {},
     "output_type": "execute_result"
    }
   ],
   "source": [
    "df.dtypes\n"
   ]
  },
  {
   "cell_type": "markdown",
   "metadata": {},
   "source": [
    "The date is stored in the \"weird\" format, by which I mean mm/dd/yyyy is which utterly unreadable 😑 It is possible to convert them into `datetime` objects.\n",
    "\n"
   ]
  },
  {
   "cell_type": "code",
   "execution_count": 13,
   "metadata": {},
   "outputs": [
    {
     "data": {
      "text/plain": [
       "0      11/15/2023\n",
       "1       11/4/2023\n",
       "2       11/3/2023\n",
       "3      10/30/2023\n",
       "4      10/30/2023\n",
       "          ...    \n",
       "382     7/14/2014\n",
       "383      7/4/2014\n",
       "384      7/4/2014\n",
       "385     11/2/2013\n",
       "386      4/2/2013\n",
       "Name: Date, Length: 387, dtype: object"
      ]
     },
     "execution_count": 13,
     "metadata": {},
     "output_type": "execute_result"
    }
   ],
   "source": [
    "df[\"Date\"]\n"
   ]
  },
  {
   "cell_type": "code",
   "execution_count": 14,
   "metadata": {},
   "outputs": [
    {
     "name": "stderr",
     "output_type": "stream",
     "text": [
      "2024-01-19 23:33:31,027 WARNING:root:Could not convert 9/-/2022 into datetime object: time data '9/-/2022' does not match format '%m/%d/%Y'\n",
      "2024-01-19 23:33:31,028 INFO:root:Assigning a random date.\n",
      "2024-01-19 23:33:31,029 WARNING:root:Could not convert 6/-/2022 into datetime object: time data '6/-/2022' does not match format '%m/%d/%Y'\n",
      "2024-01-19 23:33:31,030 INFO:root:Assigning a random date.\n",
      "2024-01-19 23:33:31,032 WARNING:root:Could not convert 8/-/2019 into datetime object: time data '8/-/2019' does not match format '%m/%d/%Y'\n",
      "2024-01-19 23:33:31,033 INFO:root:Assigning a random date.\n"
     ]
    }
   ],
   "source": [
    "from datetime import datetime\n",
    "import logging\n",
    "\n",
    "logging.basicConfig(\n",
    "    format=\"%(asctime)s %(levelname)s:%(name)s:%(message)s\", level=logging.INFO\n",
    ")\n",
    "\n",
    "\n",
    "def convert_datestring(date_string):\n",
    "    try:\n",
    "        date_object = datetime.strptime(date_string, \"%m/%d/%Y\")\n",
    "        return date_object.strftime(\"%Y-%m-%d\")\n",
    "    except ValueError as e:\n",
    "        logging.warning(f\"Could not convert {date_string} into datetime object: {e}\")\n",
    "        logging.info(\"Assigning a random date.\")\n",
    "        date_parts = date_string.split(\"/\")\n",
    "        for index, date_part in enumerate(date_parts):\n",
    "            try:\n",
    "                int(date_part)\n",
    "            except ValueError:\n",
    "                date_parts[index] = \"12\"\n",
    "                return convert_datestring(\"/\".join(date_parts))\n",
    "\n",
    "\n",
    "df[\"Date\"] = df[\"Date\"].apply(convert_datestring)\n"
   ]
  },
  {
   "cell_type": "code",
   "execution_count": 15,
   "metadata": {},
   "outputs": [
    {
     "data": {
      "text/plain": [
       "0      2023-11-15\n",
       "1      2023-11-04\n",
       "2      2023-11-03\n",
       "3      2023-10-30\n",
       "4      2023-10-30\n",
       "          ...    \n",
       "382    2014-07-14\n",
       "383    2014-07-04\n",
       "384    2014-07-04\n",
       "385    2013-11-02\n",
       "386    2013-04-02\n",
       "Name: Date, Length: 387, dtype: object"
      ]
     },
     "execution_count": 15,
     "metadata": {},
     "output_type": "execute_result"
    }
   ],
   "source": [
    "df[\"Date\"]\n"
   ]
  },
  {
   "cell_type": "markdown",
   "metadata": {},
   "source": [
    "Now let's convert the dates into a datetime object\n",
    "\n"
   ]
  },
  {
   "cell_type": "code",
   "execution_count": 16,
   "metadata": {},
   "outputs": [
    {
     "data": {
      "text/plain": [
       "0     2023-11-15\n",
       "1     2023-11-04\n",
       "2     2023-11-03\n",
       "3     2023-10-30\n",
       "4     2023-10-30\n",
       "         ...    \n",
       "382   2014-07-14\n",
       "383   2014-07-04\n",
       "384   2014-07-04\n",
       "385   2013-11-02\n",
       "386   2013-04-02\n",
       "Name: Date, Length: 387, dtype: datetime64[ns]"
      ]
     },
     "execution_count": 16,
     "metadata": {},
     "output_type": "execute_result"
    }
   ],
   "source": [
    "df[\"Date\"] = pd.to_datetime(df[\"Date\"])\n",
    "df[\"Date\"]\n"
   ]
  },
  {
   "cell_type": "markdown",
   "metadata": {},
   "source": [
    "`Holland` and `Netherlands` appear in the list of countries, although they are the same! Replacing the former with the latter.\n",
    "\n"
   ]
  },
  {
   "cell_type": "code",
   "execution_count": 17,
   "metadata": {},
   "outputs": [],
   "source": [
    "df[\"Country\"].replace({\"Holland\": \"Netherlands\"}, inplace=True)\n"
   ]
  },
  {
   "cell_type": "markdown",
   "metadata": {},
   "source": [
    "Finally! Write the data out to a `.csv` file.\n",
    "\n"
   ]
  },
  {
   "cell_type": "code",
   "execution_count": 18,
   "metadata": {},
   "outputs": [],
   "source": [
    "df.to_csv(\"./data.csv\", index=None)\n"
   ]
  },
  {
   "cell_type": "markdown",
   "metadata": {},
   "source": [
    "`dtypes` change when reading from `csv`, as it tries to infer the data type for each column. For example, the year converts to `int64`. It is possible to change the `dtype` into something else by passing the `dtype` argument in `read_csv` using a `key-value` of a column name and desired `dtype`.\n",
    "\n"
   ]
  },
  {
   "cell_type": "code",
   "execution_count": 19,
   "metadata": {},
   "outputs": [
    {
     "data": {
      "text/plain": [
       "Case #                                      float64\n",
       "Year                                          int64\n",
       "Date                                         object\n",
       "Country                                      object\n",
       "State                                        object\n",
       "Description                                  object\n",
       "Deaths                                        int64\n",
       "Tesla driver                                  int64\n",
       "Tesla occupant                                int64\n",
       "Other vehicle                                 int64\n",
       "Cyclists/ Peds                                int64\n",
       "TSLA+cycl / peds                              int64\n",
       "Model                                        object\n",
       "AutoPilot claimed                            object\n",
       "Reported in NHTSA SGO                        object\n",
       "Verified Tesla Autopilot Death               object\n",
       "Excerpt Verifying Tesla Autopilot Deaths     object\n",
       "Source                                       object\n",
       "Note                                         object\n",
       "Deceased 1                                   object\n",
       "Deceased 2                                   object\n",
       "Deceased 3                                   object\n",
       "Deceased 4                                   object\n",
       "dtype: object"
      ]
     },
     "execution_count": 19,
     "metadata": {},
     "output_type": "execute_result"
    }
   ],
   "source": [
    "df = pd.read_csv(\"./data.csv\")\n",
    "df.dtypes\n"
   ]
  },
  {
   "cell_type": "code",
   "execution_count": 20,
   "metadata": {},
   "outputs": [
    {
     "data": {
      "text/plain": [
       "Case #                                      object\n",
       "Year                                        object\n",
       "Date                                        object\n",
       "Country                                     object\n",
       "State                                       object\n",
       "Description                                 object\n",
       "Deaths                                       int64\n",
       "Tesla driver                                 int64\n",
       "Tesla occupant                               int64\n",
       "Other vehicle                                int64\n",
       "Cyclists/ Peds                               int64\n",
       "TSLA+cycl / peds                             int64\n",
       "Model                                       object\n",
       "AutoPilot claimed                           object\n",
       "Reported in NHTSA SGO                       object\n",
       "Verified Tesla Autopilot Death              object\n",
       "Excerpt Verifying Tesla Autopilot Deaths    object\n",
       "Source                                      object\n",
       "Note                                        object\n",
       "Deceased 1                                  object\n",
       "Deceased 2                                  object\n",
       "Deceased 3                                  object\n",
       "Deceased 4                                  object\n",
       "dtype: object"
      ]
     },
     "execution_count": 20,
     "metadata": {},
     "output_type": "execute_result"
    }
   ],
   "source": [
    "df = pd.read_csv(\"./data.csv\", dtype={\"Case #\": str, \"Year\": str, \"Date\": str})\n",
    "df.dtypes\n"
   ]
  }
 ],
 "metadata": {
  "kernelspec": {
   "display_name": "tesla_deaths-wxKVL54F",
   "language": "python",
   "name": "python3"
  },
  "language_info": {
   "codemirror_mode": {
    "name": "ipython",
    "version": 3
   },
   "file_extension": ".py",
   "mimetype": "text/x-python",
   "name": "python",
   "nbconvert_exporter": "python",
   "pygments_lexer": "ipython3",
   "version": "3.10.12"
  }
 },
 "nbformat": 4,
 "nbformat_minor": 2
}
