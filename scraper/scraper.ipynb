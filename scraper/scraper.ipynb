{
 "cells": [
  {
   "cell_type": "code",
   "execution_count": null,
   "metadata": {},
   "outputs": [],
   "source": [
    "# SOURCE\n",
    "SOURCE = \"https://www.tesladeaths.com\"\n"
   ]
  },
  {
   "cell_type": "code",
   "execution_count": null,
   "metadata": {},
   "outputs": [],
   "source": [
    "from requests_html import HTMLSession, Element\n",
    "\n",
    "session = HTMLSession()\n",
    "r: session = session.get(SOURCE)\n"
   ]
  },
  {
   "cell_type": "markdown",
   "metadata": {},
   "source": [
    "Getting the `table` element that houses the data.\n",
    "\n"
   ]
  },
  {
   "cell_type": "code",
   "execution_count": null,
   "metadata": {},
   "outputs": [],
   "source": [
    "table: Element = r.html.find(\"#dttable\", first=True)\n",
    "table\n"
   ]
  },
  {
   "cell_type": "markdown",
   "metadata": {},
   "source": [
    "Finding all row headers using `th` tag.\n",
    "\n"
   ]
  },
  {
   "cell_type": "code",
   "execution_count": null,
   "metadata": {},
   "outputs": [],
   "source": [
    "table_headers = table.find(\"th\")\n",
    "table_headers = [row.text for row in table_headers]\n",
    "table_headers\n"
   ]
  },
  {
   "cell_type": "markdown",
   "metadata": {},
   "source": [
    "Collecting all data rows and excluding the last 350 since there is no usable data in there.\n",
    "\n"
   ]
  },
  {
   "cell_type": "code",
   "execution_count": null,
   "metadata": {},
   "outputs": [],
   "source": [
    "table_data = table.find(\"td\")[:-350]\n",
    "# * The last 350 td\"s do not have useful data\n",
    "\n",
    "for data in table_data:\n",
    "    print(data.text)\n"
   ]
  },
  {
   "cell_type": "markdown",
   "metadata": {},
   "source": [
    "Since I used `text` element to find the content, the `URL`s got truncated. From the table component, I found `a` html tags and used their `href` attributes to extract the links.\n",
    "\n"
   ]
  },
  {
   "cell_type": "code",
   "execution_count": null,
   "metadata": {},
   "outputs": [],
   "source": [
    "table_links = table.find(\"a\")\n",
    "urls = [link.attrs[\"href\"] for link in table_links]\n",
    "# urls\n"
   ]
  },
  {
   "cell_type": "markdown",
   "metadata": {},
   "source": [
    "Looped through the data I found and created a list of **23** values, since we have 23 table headers. Essentially, within the `row` variable is a list of lists, where each individual list is a row of the \"table\".\n",
    "\n"
   ]
  },
  {
   "cell_type": "code",
   "execution_count": null,
   "metadata": {},
   "outputs": [],
   "source": [
    "rows = []\n",
    "for i in list(range(0, len(table_data), 23)):\n",
    "    one_row = [data.text for data in table_data[0 + i : 23 + i]]\n",
    "    rows.append(one_row)\n",
    "\n",
    "for url in urls:\n",
    "    for row in rows:\n",
    "        row[17] = url\n",
    "\n",
    "# rows\n"
   ]
  },
  {
   "cell_type": "markdown",
   "metadata": {},
   "source": [
    "Mandatory conversion to DataFrame 😅\n"
   ]
  },
  {
   "cell_type": "code",
   "execution_count": null,
   "metadata": {},
   "outputs": [],
   "source": [
    "import pandas as pd\n",
    "\n",
    "df = pd.DataFrame(rows, columns=table_headers)\n",
    "df.to_csv(\"./data.csv\")\n",
    "df.head()\n"
   ]
  },
  {
   "cell_type": "markdown",
   "metadata": {},
   "source": [
    "Played around with the new library `Polars` 🐻‍❄️ which is supposed to the `fast as fuck boiiiii`. It is indeed, or should be in theory. `Polars` store data in DataFrames in _columnar_ format as opposed to the classical row format _Pandas_ 🐼 uses.\n"
   ]
  },
  {
   "cell_type": "code",
   "execution_count": 189,
   "metadata": {},
   "outputs": [],
   "source": [
    "# import polars as pl\n",
    "# pl_rows = pl.DataFrame(rows)\n",
    "# pl_rows\n"
   ]
  },
  {
   "cell_type": "markdown",
   "metadata": {},
   "source": [
    "Converted data for certain values from `str` to `int` so that some analysis can be performed 📊\n"
   ]
  },
  {
   "cell_type": "code",
   "execution_count": 192,
   "metadata": {},
   "outputs": [
    {
     "data": {
      "text/plain": [
       "dtype('int64')"
      ]
     },
     "execution_count": 192,
     "metadata": {},
     "output_type": "execute_result"
    }
   ],
   "source": [
    "# Converting necessary columns from str to int values\n",
    "int_value_columns = df.columns[6:15]\n",
    "df[int_value_columns] = (\n",
    "    df[int_value_columns].apply(pd.to_numeric, errors=\"coerce\").fillna(0).astype(\"int\")\n",
    ")\n",
    "\n",
    "# Confirming one column\n",
    "df[\"Deaths\"].dtype\n"
   ]
  },
  {
   "cell_type": "code",
   "execution_count": 193,
   "metadata": {},
   "outputs": [
    {
     "data": {
      "text/html": [
       "<div>\n",
       "<style scoped>\n",
       "    .dataframe tbody tr th:only-of-type {\n",
       "        vertical-align: middle;\n",
       "    }\n",
       "\n",
       "    .dataframe tbody tr th {\n",
       "        vertical-align: top;\n",
       "    }\n",
       "\n",
       "    .dataframe thead th {\n",
       "        text-align: right;\n",
       "    }\n",
       "</style>\n",
       "<table border=\"1\" class=\"dataframe\">\n",
       "  <thead>\n",
       "    <tr style=\"text-align: right;\">\n",
       "      <th></th>\n",
       "      <th>Case #</th>\n",
       "      <th>Year</th>\n",
       "      <th>Date</th>\n",
       "      <th>Country</th>\n",
       "      <th>State</th>\n",
       "      <th>Description</th>\n",
       "      <th>Deaths</th>\n",
       "      <th>Tesla driver</th>\n",
       "      <th>Tesla occupant</th>\n",
       "      <th>Other vehicle</th>\n",
       "      <th>...</th>\n",
       "      <th>AutoPilot claimed</th>\n",
       "      <th>Reported in NHTSA SGO</th>\n",
       "      <th>Verified Tesla Autopilot Death</th>\n",
       "      <th>Excerpt Verifying Tesla Autopilot Deaths</th>\n",
       "      <th>Source</th>\n",
       "      <th>Note</th>\n",
       "      <th>Deceased 1</th>\n",
       "      <th>Deceased 2</th>\n",
       "      <th>Deceased 3</th>\n",
       "      <th>Deceased 4</th>\n",
       "    </tr>\n",
       "  </thead>\n",
       "  <tbody>\n",
       "    <tr>\n",
       "      <th>0</th>\n",
       "      <td>377</td>\n",
       "      <td>2023</td>\n",
       "      <td>11/15/2023</td>\n",
       "      <td>USA</td>\n",
       "      <td>NC</td>\n",
       "      <td>Moped runs into Tesla</td>\n",
       "      <td>1</td>\n",
       "      <td>0</td>\n",
       "      <td>0</td>\n",
       "      <td>1</td>\n",
       "      <td>...</td>\n",
       "      <td>0</td>\n",
       "      <td>0</td>\n",
       "      <td>-</td>\n",
       "      <td>-</td>\n",
       "      <td>https://web.archive.org/web/20150425055520/htt...</td>\n",
       "      <td></td>\n",
       "      <td></td>\n",
       "      <td></td>\n",
       "      <td></td>\n",
       "      <td></td>\n",
       "    </tr>\n",
       "    <tr>\n",
       "      <th>1</th>\n",
       "      <td>376</td>\n",
       "      <td>2023</td>\n",
       "      <td>11/4/2023</td>\n",
       "      <td>USA</td>\n",
       "      <td>WA</td>\n",
       "      <td>Tesla rolls over and hits enbankment</td>\n",
       "      <td>1</td>\n",
       "      <td>1</td>\n",
       "      <td>0</td>\n",
       "      <td>0</td>\n",
       "      <td>...</td>\n",
       "      <td>0</td>\n",
       "      <td>0</td>\n",
       "      <td>-</td>\n",
       "      <td>-</td>\n",
       "      <td>https://web.archive.org/web/20150425055520/htt...</td>\n",
       "      <td></td>\n",
       "      <td></td>\n",
       "      <td></td>\n",
       "      <td></td>\n",
       "      <td></td>\n",
       "    </tr>\n",
       "    <tr>\n",
       "      <th>2</th>\n",
       "      <td>375</td>\n",
       "      <td>2023</td>\n",
       "      <td>11/3/2023</td>\n",
       "      <td>USA</td>\n",
       "      <td>FL</td>\n",
       "      <td>Tesla hits a dislodged motorcyclist</td>\n",
       "      <td>1</td>\n",
       "      <td>0</td>\n",
       "      <td>0</td>\n",
       "      <td>0</td>\n",
       "      <td>...</td>\n",
       "      <td>0</td>\n",
       "      <td>0</td>\n",
       "      <td>-</td>\n",
       "      <td>-</td>\n",
       "      <td>https://web.archive.org/web/20150425055520/htt...</td>\n",
       "      <td></td>\n",
       "      <td></td>\n",
       "      <td></td>\n",
       "      <td></td>\n",
       "      <td></td>\n",
       "    </tr>\n",
       "    <tr>\n",
       "      <th>3</th>\n",
       "      <td>374</td>\n",
       "      <td>2023</td>\n",
       "      <td>10/30/2023</td>\n",
       "      <td>USA</td>\n",
       "      <td>NY</td>\n",
       "      <td>Tesla hits multiple cars</td>\n",
       "      <td>1</td>\n",
       "      <td>0</td>\n",
       "      <td>1</td>\n",
       "      <td>0</td>\n",
       "      <td>...</td>\n",
       "      <td>0</td>\n",
       "      <td>0</td>\n",
       "      <td>-</td>\n",
       "      <td>-</td>\n",
       "      <td>https://web.archive.org/web/20150425055520/htt...</td>\n",
       "      <td></td>\n",
       "      <td></td>\n",
       "      <td></td>\n",
       "      <td></td>\n",
       "      <td></td>\n",
       "    </tr>\n",
       "    <tr>\n",
       "      <th>4</th>\n",
       "      <td>373</td>\n",
       "      <td>2023</td>\n",
       "      <td>10/30/2023</td>\n",
       "      <td>USA</td>\n",
       "      <td>NY</td>\n",
       "      <td>DUI</td>\n",
       "      <td>1</td>\n",
       "      <td>0</td>\n",
       "      <td>0</td>\n",
       "      <td>1</td>\n",
       "      <td>...</td>\n",
       "      <td>0</td>\n",
       "      <td>0</td>\n",
       "      <td>-</td>\n",
       "      <td>-</td>\n",
       "      <td>https://web.archive.org/web/20150425055520/htt...</td>\n",
       "      <td></td>\n",
       "      <td></td>\n",
       "      <td></td>\n",
       "      <td></td>\n",
       "      <td></td>\n",
       "    </tr>\n",
       "  </tbody>\n",
       "</table>\n",
       "<p>5 rows × 23 columns</p>\n",
       "</div>"
      ],
      "text/plain": [
       "  Case #  Year        Date Country State  \\\n",
       "0    377  2023  11/15/2023     USA    NC   \n",
       "1    376  2023   11/4/2023     USA    WA   \n",
       "2    375  2023   11/3/2023     USA    FL   \n",
       "3    374  2023  10/30/2023     USA    NY   \n",
       "4    373  2023  10/30/2023     USA    NY   \n",
       "\n",
       "                            Description  Deaths  Tesla driver  Tesla occupant  \\\n",
       "0                 Moped runs into Tesla       1             0               0   \n",
       "1  Tesla rolls over and hits enbankment       1             1               0   \n",
       "2   Tesla hits a dislodged motorcyclist       1             0               0   \n",
       "3              Tesla hits multiple cars       1             0               1   \n",
       "4                                   DUI       1             0               0   \n",
       "\n",
       "   Other vehicle  ...  AutoPilot claimed  Reported in NHTSA SGO  \\\n",
       "0              1  ...                  0                      0   \n",
       "1              0  ...                  0                      0   \n",
       "2              0  ...                  0                      0   \n",
       "3              0  ...                  0                      0   \n",
       "4              1  ...                  0                      0   \n",
       "\n",
       "   Verified Tesla Autopilot Death  Excerpt Verifying Tesla Autopilot Deaths  \\\n",
       "0                               -                                         -   \n",
       "1                               -                                         -   \n",
       "2                               -                                         -   \n",
       "3                               -                                         -   \n",
       "4                               -                                         -   \n",
       "\n",
       "                                              Source Note Deceased 1  \\\n",
       "0  https://web.archive.org/web/20150425055520/htt...                   \n",
       "1  https://web.archive.org/web/20150425055520/htt...                   \n",
       "2  https://web.archive.org/web/20150425055520/htt...                   \n",
       "3  https://web.archive.org/web/20150425055520/htt...                   \n",
       "4  https://web.archive.org/web/20150425055520/htt...                   \n",
       "\n",
       "  Deceased 2 Deceased 3 Deceased 4  \n",
       "0                                   \n",
       "1                                   \n",
       "2                                   \n",
       "3                                   \n",
       "4                                   \n",
       "\n",
       "[5 rows x 23 columns]"
      ]
     },
     "execution_count": 193,
     "metadata": {},
     "output_type": "execute_result"
    }
   ],
   "source": [
    "df.head()\n"
   ]
  },
  {
   "cell_type": "code",
   "execution_count": null,
   "metadata": {},
   "outputs": [],
   "source": []
  }
 ],
 "metadata": {
  "kernelspec": {
   "display_name": "tesla_deaths-wxKVL54F",
   "language": "python",
   "name": "python3"
  },
  "language_info": {
   "codemirror_mode": {
    "name": "ipython",
    "version": 3
   },
   "file_extension": ".py",
   "mimetype": "text/x-python",
   "name": "python",
   "nbconvert_exporter": "python",
   "pygments_lexer": "ipython3",
   "version": "3.10.12"
  }
 },
 "nbformat": 4,
 "nbformat_minor": 2
}
