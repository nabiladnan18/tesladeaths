{
 "cells": [
  {
   "cell_type": "code",
   "execution_count": null,
   "metadata": {},
   "outputs": [],
   "source": [
    "# SOURCE\n",
    "SOURCE = \"https://www.tesladeaths.com\"\n"
   ]
  },
  {
   "cell_type": "code",
   "execution_count": null,
   "metadata": {},
   "outputs": [],
   "source": [
    "from requests_html import HTMLSession, Element\n",
    "\n",
    "session = HTMLSession()\n",
    "r: session = session.get(SOURCE)\n"
   ]
  },
  {
   "cell_type": "code",
   "execution_count": null,
   "metadata": {},
   "outputs": [],
   "source": [
    "table: Element = r.html.find(\"#dttable\", first=True)\n",
    "table\n"
   ]
  },
  {
   "cell_type": "code",
   "execution_count": null,
   "metadata": {},
   "outputs": [],
   "source": [
    "table_headers = table.find(\"th\")\n",
    "table_headers = [row.text for row in table_headers]\n",
    "table_headers\n"
   ]
  },
  {
   "cell_type": "code",
   "execution_count": null,
   "metadata": {},
   "outputs": [],
   "source": [
    "table_data = table.find(\"td\")[:-350]\n",
    "# * The last 350 td\"s do not have useful data\n",
    "\n",
    "for data in table_data:\n",
    "    print(data.text)\n"
   ]
  },
  {
   "cell_type": "code",
   "execution_count": null,
   "metadata": {},
   "outputs": [],
   "source": [
    "table_links = table.find(\"a\")\n",
    "urls = [link.attrs[\"href\"] for link in table_links]\n",
    "urls\n"
   ]
  },
  {
   "cell_type": "code",
   "execution_count": null,
   "metadata": {},
   "outputs": [],
   "source": [
    "rows = []\n",
    "for i in list(range(0, len(table_data), 23)):\n",
    "    one_row = [data.text for data in table_data[0 + i : 23 + i]]\n",
    "    rows.append(one_row)\n",
    "\n",
    "for url in urls:\n",
    "    for row in rows:\n",
    "        row[17] = url\n",
    "\n",
    "rows\n"
   ]
  },
  {
   "cell_type": "code",
   "execution_count": null,
   "metadata": {},
   "outputs": [],
   "source": [
    "import pandas as pd\n",
    "\n",
    "df = pd.DataFrame(rows, columns=table_headers)\n",
    "df.to_csv(\"./data.csv\")\n",
    "df\n",
    "\n",
    "# Was just trying out how Polars look like\n",
    "# Polars store data in columnar format\n",
    "# Which is why aggregation and stuff are lightning fast\n",
    "# import polars as pl\n",
    "# pl_rows = pl.DataFrame(rows)\n",
    "# pl_rows\n"
   ]
  },
  {
   "cell_type": "code",
   "execution_count": null,
   "metadata": {},
   "outputs": [],
   "source": [
    "# Converting necessary columns from str to int values\n",
    "int_value_columns = df.columns[6:15]\n",
    "df[int_value_columns] = (\n",
    "    df[int_value_columns].apply(pd.to_numeric, errors=\"coerce\").fillna(0).astype(\"int\")\n",
    ")\n"
   ]
  }
 ],
 "metadata": {
  "kernelspec": {
   "display_name": "tesla_deaths-wxKVL54F",
   "language": "python",
   "name": "python3"
  },
  "language_info": {
   "codemirror_mode": {
    "name": "ipython",
    "version": 3
   },
   "file_extension": ".py",
   "mimetype": "text/x-python",
   "name": "python",
   "nbconvert_exporter": "python",
   "pygments_lexer": "ipython3",
   "version": "3.10.12"
  }
 },
 "nbformat": 4,
 "nbformat_minor": 2
}
